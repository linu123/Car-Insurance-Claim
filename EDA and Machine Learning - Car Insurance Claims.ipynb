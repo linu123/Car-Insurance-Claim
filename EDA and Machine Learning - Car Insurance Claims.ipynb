{
 "cells": [
  {
   "cell_type": "markdown",
   "metadata": {},
   "source": [
    "# EDA and Machine Learning - Car Insurance Claim Data\n",
    "\n",
    "This is a project in which I use _Car Insurance Claim_ Dataset from Kaggle to generate some insights about car insurance claims and see what factors will make customers more likely to be 'repeat offenders'. First, I clean the data and create some new features using pandas. Then I create visualizations of said data using matplotlib and seaborn. Finally, I apply machine learning models (sklearn) to predict which customers will make repeat insurance claims. Tasks include:\n",
    "\n",
    "### Data Preprocessing:\n",
    "- Create target variable 'repeat'\n",
    "- Convert data types to numeric \n",
    "- Remove unnecessary columns\n",
    "- Fill in and/or remove null values\n",
    "- Clean up messy string data entries\n",
    "- Export cleaned csv file\n",
    "\n",
    "### Exploratory Data Analysis:\n",
    "- Create visualizations to determine what attributes lead to repeat insurance claims\n",
    "- Make use of matplotlib and seaborn to create graphs that are easy to understand\n",
    "- Separate numerical variables into categorical data for plotting\n",
    "- Use visualizations to determine whether or not a variable is suitable for our ML model\n",
    "\n",
    "### Machine Learning:\n",
    "- Create target variable and feature dataframe\n",
    "- Convert categorical data types to numeric\n",
    "- Split dataset into training and test data\n",
    "- Scale training data\n",
    "- Run different categorical machine learning models: \n",
    "    - Gaussian Naive Bayes\n",
    "    - Logistic Regression\n",
    "    - Support Vector Machines\n",
    "    - Random Forest\n",
    "    - k-Nearest Neighbors\n",
    "- Tune hyperparameters to increase model accuracy\n",
    "- Analyze feature importance\n",
    "- Run various tests to determine best model\n",
    "\n",
    "### Final product is a model which takes in # of Demerit Points, Age, Car Crash Status, and Urbanicity and predicts with 75.35% accuracy whether a customer will make more than one insurance claim."
   ]
  },
  {
   "cell_type": "markdown",
   "metadata": {},
   "source": [
    "\n",
    "## Part 1: Imports"
   ]
  },
  {
   "cell_type": "code",
   "execution_count": 1,
   "metadata": {
    "scrolled": false
   },
   "outputs": [],
   "source": [
    "# import data processing and visualization libraries\n",
    "import numpy as np\n",
    "import pandas as pd\n",
    "import matplotlib.pyplot as plt\n",
    "from matplotlib.pyplot import figure\n",
    "import seaborn as sns\n",
    "%matplotlib inline\n",
    "\n"
   ]
  },
  {
   "cell_type": "markdown",
   "metadata": {},
   "source": [
    "\n",
    "\n",
    "## Part 2: Data Preprocessing"
   ]
  },
  {
   "cell_type": "code",
   "execution_count": 2,
   "metadata": {
    "scrolled": false
   },
   "outputs": [
    {
     "data": {
      "text/html": [
       "<div>\n",
       "<style scoped>\n",
       "    .dataframe tbody tr th:only-of-type {\n",
       "        vertical-align: middle;\n",
       "    }\n",
       "\n",
       "    .dataframe tbody tr th {\n",
       "        vertical-align: top;\n",
       "    }\n",
       "\n",
       "    .dataframe thead th {\n",
       "        text-align: right;\n",
       "    }\n",
       "</style>\n",
       "<table border=\"1\" class=\"dataframe\">\n",
       "  <thead>\n",
       "    <tr style=\"text-align: right;\">\n",
       "      <th></th>\n",
       "      <th>ID</th>\n",
       "      <th>KIDSDRIV</th>\n",
       "      <th>BIRTH</th>\n",
       "      <th>AGE</th>\n",
       "      <th>HOMEKIDS</th>\n",
       "      <th>YOJ</th>\n",
       "      <th>INCOME</th>\n",
       "      <th>PARENT1</th>\n",
       "      <th>HOME_VAL</th>\n",
       "      <th>MSTATUS</th>\n",
       "      <th>...</th>\n",
       "      <th>CAR_TYPE</th>\n",
       "      <th>RED_CAR</th>\n",
       "      <th>OLDCLAIM</th>\n",
       "      <th>CLM_FREQ</th>\n",
       "      <th>REVOKED</th>\n",
       "      <th>MVR_PTS</th>\n",
       "      <th>CLM_AMT</th>\n",
       "      <th>CAR_AGE</th>\n",
       "      <th>CLAIM_FLAG</th>\n",
       "      <th>URBANICITY</th>\n",
       "    </tr>\n",
       "  </thead>\n",
       "  <tbody>\n",
       "    <tr>\n",
       "      <th>0</th>\n",
       "      <td>63581743</td>\n",
       "      <td>0</td>\n",
       "      <td>16MAR39</td>\n",
       "      <td>60.0</td>\n",
       "      <td>0</td>\n",
       "      <td>11.0</td>\n",
       "      <td>$67,349</td>\n",
       "      <td>No</td>\n",
       "      <td>$0</td>\n",
       "      <td>z_No</td>\n",
       "      <td>...</td>\n",
       "      <td>Minivan</td>\n",
       "      <td>yes</td>\n",
       "      <td>$4,461</td>\n",
       "      <td>2</td>\n",
       "      <td>No</td>\n",
       "      <td>3</td>\n",
       "      <td>$0</td>\n",
       "      <td>18.0</td>\n",
       "      <td>0</td>\n",
       "      <td>Highly Urban/ Urban</td>\n",
       "    </tr>\n",
       "    <tr>\n",
       "      <th>1</th>\n",
       "      <td>132761049</td>\n",
       "      <td>0</td>\n",
       "      <td>21JAN56</td>\n",
       "      <td>43.0</td>\n",
       "      <td>0</td>\n",
       "      <td>11.0</td>\n",
       "      <td>$91,449</td>\n",
       "      <td>No</td>\n",
       "      <td>$257,252</td>\n",
       "      <td>z_No</td>\n",
       "      <td>...</td>\n",
       "      <td>Minivan</td>\n",
       "      <td>yes</td>\n",
       "      <td>$0</td>\n",
       "      <td>0</td>\n",
       "      <td>No</td>\n",
       "      <td>0</td>\n",
       "      <td>$0</td>\n",
       "      <td>1.0</td>\n",
       "      <td>0</td>\n",
       "      <td>Highly Urban/ Urban</td>\n",
       "    </tr>\n",
       "    <tr>\n",
       "      <th>2</th>\n",
       "      <td>921317019</td>\n",
       "      <td>0</td>\n",
       "      <td>18NOV51</td>\n",
       "      <td>48.0</td>\n",
       "      <td>0</td>\n",
       "      <td>11.0</td>\n",
       "      <td>$52,881</td>\n",
       "      <td>No</td>\n",
       "      <td>$0</td>\n",
       "      <td>z_No</td>\n",
       "      <td>...</td>\n",
       "      <td>Van</td>\n",
       "      <td>yes</td>\n",
       "      <td>$0</td>\n",
       "      <td>0</td>\n",
       "      <td>No</td>\n",
       "      <td>2</td>\n",
       "      <td>$0</td>\n",
       "      <td>10.0</td>\n",
       "      <td>0</td>\n",
       "      <td>Highly Urban/ Urban</td>\n",
       "    </tr>\n",
       "    <tr>\n",
       "      <th>3</th>\n",
       "      <td>727598473</td>\n",
       "      <td>0</td>\n",
       "      <td>05MAR64</td>\n",
       "      <td>35.0</td>\n",
       "      <td>1</td>\n",
       "      <td>10.0</td>\n",
       "      <td>$16,039</td>\n",
       "      <td>No</td>\n",
       "      <td>$124,191</td>\n",
       "      <td>Yes</td>\n",
       "      <td>...</td>\n",
       "      <td>z_SUV</td>\n",
       "      <td>no</td>\n",
       "      <td>$38,690</td>\n",
       "      <td>2</td>\n",
       "      <td>No</td>\n",
       "      <td>3</td>\n",
       "      <td>$0</td>\n",
       "      <td>10.0</td>\n",
       "      <td>0</td>\n",
       "      <td>Highly Urban/ Urban</td>\n",
       "    </tr>\n",
       "    <tr>\n",
       "      <th>4</th>\n",
       "      <td>450221861</td>\n",
       "      <td>0</td>\n",
       "      <td>05JUN48</td>\n",
       "      <td>51.0</td>\n",
       "      <td>0</td>\n",
       "      <td>14.0</td>\n",
       "      <td>NaN</td>\n",
       "      <td>No</td>\n",
       "      <td>$306,251</td>\n",
       "      <td>Yes</td>\n",
       "      <td>...</td>\n",
       "      <td>Minivan</td>\n",
       "      <td>yes</td>\n",
       "      <td>$0</td>\n",
       "      <td>0</td>\n",
       "      <td>No</td>\n",
       "      <td>0</td>\n",
       "      <td>$0</td>\n",
       "      <td>6.0</td>\n",
       "      <td>0</td>\n",
       "      <td>Highly Urban/ Urban</td>\n",
       "    </tr>\n",
       "  </tbody>\n",
       "</table>\n",
       "<p>5 rows × 27 columns</p>\n",
       "</div>"
      ],
      "text/plain": [
       "          ID  KIDSDRIV    BIRTH   AGE  HOMEKIDS   YOJ   INCOME PARENT1  \\\n",
       "0   63581743         0  16MAR39  60.0         0  11.0  $67,349      No   \n",
       "1  132761049         0  21JAN56  43.0         0  11.0  $91,449      No   \n",
       "2  921317019         0  18NOV51  48.0         0  11.0  $52,881      No   \n",
       "3  727598473         0  05MAR64  35.0         1  10.0  $16,039      No   \n",
       "4  450221861         0  05JUN48  51.0         0  14.0      NaN      No   \n",
       "\n",
       "   HOME_VAL MSTATUS  ... CAR_TYPE RED_CAR OLDCLAIM  CLM_FREQ REVOKED MVR_PTS  \\\n",
       "0        $0    z_No  ...  Minivan     yes   $4,461         2      No       3   \n",
       "1  $257,252    z_No  ...  Minivan     yes       $0         0      No       0   \n",
       "2        $0    z_No  ...      Van     yes       $0         0      No       2   \n",
       "3  $124,191     Yes  ...    z_SUV      no  $38,690         2      No       3   \n",
       "4  $306,251     Yes  ...  Minivan     yes       $0         0      No       0   \n",
       "\n",
       "   CLM_AMT CAR_AGE CLAIM_FLAG           URBANICITY  \n",
       "0       $0    18.0          0  Highly Urban/ Urban  \n",
       "1       $0     1.0          0  Highly Urban/ Urban  \n",
       "2       $0    10.0          0  Highly Urban/ Urban  \n",
       "3       $0    10.0          0  Highly Urban/ Urban  \n",
       "4       $0     6.0          0  Highly Urban/ Urban  \n",
       "\n",
       "[5 rows x 27 columns]"
      ]
     },
     "execution_count": 2,
     "metadata": {},
     "output_type": "execute_result"
    }
   ],
   "source": [
    "# import our csv data as df and take a look\n",
    "df = pd.read_csv('car_insurance_claim_data.csv')\n",
    "df.head()"
   ]
  },
  {
   "cell_type": "code",
   "execution_count": 3,
   "metadata": {
    "scrolled": false
   },
   "outputs": [
    {
     "data": {
      "text/plain": [
       "Index(['ID', 'KIDSDRIV', 'BIRTH', 'AGE', 'HOMEKIDS', 'YOJ', 'INCOME',\n",
       "       'PARENT1', 'HOME_VAL', 'MSTATUS', 'GENDER', 'EDUCATION', 'OCCUPATION',\n",
       "       'TRAVTIME', 'CAR_USE', 'BLUEBOOK', 'TIF', 'CAR_TYPE', 'RED_CAR',\n",
       "       'OLDCLAIM', 'CLM_FREQ', 'REVOKED', 'MVR_PTS', 'CLM_AMT', 'CAR_AGE',\n",
       "       'CLAIM_FLAG', 'URBANICITY'],\n",
       "      dtype='object')"
      ]
     },
     "execution_count": 3,
     "metadata": {},
     "output_type": "execute_result"
    }
   ],
   "source": [
    "# view the columns of the dataframe to get a feel for the data\n",
    "df.columns"
   ]
  },
  {
   "cell_type": "markdown",
   "metadata": {},
   "source": [
    "What do these columns represent? Here's a table describing each variable:\n",
    "\n",
    "| Column name | Description                               |\n",
    "|-------------|-------------------------------------------|\n",
    "| ID          | Customer ID Number                        |\n",
    "| KIDSDRIV    | # of children (teenagers) driving the car |\n",
    "| BIRTH       | Date of birth                             |\n",
    "| AGE         | Age of driver                             |\n",
    "| HOMEKIDS    | # of children at home                     |\n",
    "| YOJ         | Years on job                              |\n",
    "| INCOME      | Income                                    |\n",
    "| PARENT1     | Single parent y/n                         |\n",
    "| HOME_VAL    | Value of home                             |\n",
    "| MSTATUS     | Marital status                            |\n",
    "| GENDER      | Gender                                    |\n",
    "| EDUCATION   | Maximum education level                   |\n",
    "| OCCUPATION  | Occupation                                |\n",
    "| TRAVTIME    | Distance to work                          |\n",
    "| CAR_USE     | Vehicle use                               |\n",
    "| BLUEBOOK    | Value of vehicle                          |\n",
    "| TIF         | Time in force                             |\n",
    "| CAR_TYPE    | Type of car                               |\n",
    "| RED_CAR     | Red car y/n                               |\n",
    "| OLDCLAIM    | Payouts, last 5 years                     |\n",
    "| CLM_FREQ    | # of claims, last 5 years                 |\n",
    "| REVOKED     | License revoked past 7 years y/n          |\n",
    "| MVR_PTS     | Motor vehicle record points (demerits)    |\n",
    "| CLM_AMT     | Claim amount                              |\n",
    "| CAR_AGE     | Vehicle age                               |\n",
    "| CLAIM_FLAG  | Was car in a crash y/n                    |\n",
    "| URBANICITY  | Home/work area                            |"
   ]
  },
  {
   "cell_type": "markdown",
   "metadata": {},
   "source": [
    "To simplify our data and save some memory, I'm going to drop the ID column because it doesn't represent any relevant information."
   ]
  },
  {
   "cell_type": "code",
   "execution_count": 4,
   "metadata": {
    "scrolled": false
   },
   "outputs": [],
   "source": [
    "df = df.drop(labels='ID', axis=1)"
   ]
  },
  {
   "cell_type": "markdown",
   "metadata": {},
   "source": [
    "Since every customer in this dataset has made a claim, it'll be hard to draw conclusions from the data as is. Instead, I'm going to use the information in the CLM_FREQ column to create a target variable: if a customer has had 1 or more claims in the past 5 years, we'll call them a \"repeat offender\". Then we can use the rest of the data to see which customer attributes lead to them becoming repeat offenders."
   ]
  },
  {
   "cell_type": "code",
   "execution_count": 5,
   "metadata": {
    "scrolled": false
   },
   "outputs": [
    {
     "data": {
      "text/plain": [
       "0    6292\n",
       "2    1492\n",
       "1    1279\n",
       "3     992\n",
       "4     225\n",
       "5      22\n",
       "Name: CLM_FREQ, dtype: int64"
      ]
     },
     "execution_count": 5,
     "metadata": {},
     "output_type": "execute_result"
    }
   ],
   "source": [
    "df.CLM_FREQ.value_counts()"
   ]
  },
  {
   "cell_type": "code",
   "execution_count": 6,
   "metadata": {
    "scrolled": false
   },
   "outputs": [],
   "source": [
    "# creating a new 'repeat offender' column: 1 if they have had 1 or more claims in the last 5 years, 0 if not.\n",
    "df['REPEAT'] = df.CLM_FREQ.apply(lambda x: 0 if x == 0 else 1)"
   ]
  },
  {
   "cell_type": "code",
   "execution_count": 7,
   "metadata": {
    "scrolled": false
   },
   "outputs": [
    {
     "data": {
      "text/html": [
       "<div>\n",
       "<style scoped>\n",
       "    .dataframe tbody tr th:only-of-type {\n",
       "        vertical-align: middle;\n",
       "    }\n",
       "\n",
       "    .dataframe tbody tr th {\n",
       "        vertical-align: top;\n",
       "    }\n",
       "\n",
       "    .dataframe thead th {\n",
       "        text-align: right;\n",
       "    }\n",
       "</style>\n",
       "<table border=\"1\" class=\"dataframe\">\n",
       "  <thead>\n",
       "    <tr style=\"text-align: right;\">\n",
       "      <th></th>\n",
       "      <th>KIDSDRIV</th>\n",
       "      <th>BIRTH</th>\n",
       "      <th>AGE</th>\n",
       "      <th>HOMEKIDS</th>\n",
       "      <th>YOJ</th>\n",
       "      <th>INCOME</th>\n",
       "      <th>PARENT1</th>\n",
       "      <th>HOME_VAL</th>\n",
       "      <th>MSTATUS</th>\n",
       "      <th>GENDER</th>\n",
       "      <th>...</th>\n",
       "      <th>RED_CAR</th>\n",
       "      <th>OLDCLAIM</th>\n",
       "      <th>CLM_FREQ</th>\n",
       "      <th>REVOKED</th>\n",
       "      <th>MVR_PTS</th>\n",
       "      <th>CLM_AMT</th>\n",
       "      <th>CAR_AGE</th>\n",
       "      <th>CLAIM_FLAG</th>\n",
       "      <th>URBANICITY</th>\n",
       "      <th>REPEAT</th>\n",
       "    </tr>\n",
       "  </thead>\n",
       "  <tbody>\n",
       "    <tr>\n",
       "      <th>0</th>\n",
       "      <td>0</td>\n",
       "      <td>16MAR39</td>\n",
       "      <td>60.0</td>\n",
       "      <td>0</td>\n",
       "      <td>11.0</td>\n",
       "      <td>$67,349</td>\n",
       "      <td>No</td>\n",
       "      <td>$0</td>\n",
       "      <td>z_No</td>\n",
       "      <td>M</td>\n",
       "      <td>...</td>\n",
       "      <td>yes</td>\n",
       "      <td>$4,461</td>\n",
       "      <td>2</td>\n",
       "      <td>No</td>\n",
       "      <td>3</td>\n",
       "      <td>$0</td>\n",
       "      <td>18.0</td>\n",
       "      <td>0</td>\n",
       "      <td>Highly Urban/ Urban</td>\n",
       "      <td>1</td>\n",
       "    </tr>\n",
       "    <tr>\n",
       "      <th>1</th>\n",
       "      <td>0</td>\n",
       "      <td>21JAN56</td>\n",
       "      <td>43.0</td>\n",
       "      <td>0</td>\n",
       "      <td>11.0</td>\n",
       "      <td>$91,449</td>\n",
       "      <td>No</td>\n",
       "      <td>$257,252</td>\n",
       "      <td>z_No</td>\n",
       "      <td>M</td>\n",
       "      <td>...</td>\n",
       "      <td>yes</td>\n",
       "      <td>$0</td>\n",
       "      <td>0</td>\n",
       "      <td>No</td>\n",
       "      <td>0</td>\n",
       "      <td>$0</td>\n",
       "      <td>1.0</td>\n",
       "      <td>0</td>\n",
       "      <td>Highly Urban/ Urban</td>\n",
       "      <td>0</td>\n",
       "    </tr>\n",
       "    <tr>\n",
       "      <th>2</th>\n",
       "      <td>0</td>\n",
       "      <td>18NOV51</td>\n",
       "      <td>48.0</td>\n",
       "      <td>0</td>\n",
       "      <td>11.0</td>\n",
       "      <td>$52,881</td>\n",
       "      <td>No</td>\n",
       "      <td>$0</td>\n",
       "      <td>z_No</td>\n",
       "      <td>M</td>\n",
       "      <td>...</td>\n",
       "      <td>yes</td>\n",
       "      <td>$0</td>\n",
       "      <td>0</td>\n",
       "      <td>No</td>\n",
       "      <td>2</td>\n",
       "      <td>$0</td>\n",
       "      <td>10.0</td>\n",
       "      <td>0</td>\n",
       "      <td>Highly Urban/ Urban</td>\n",
       "      <td>0</td>\n",
       "    </tr>\n",
       "    <tr>\n",
       "      <th>3</th>\n",
       "      <td>0</td>\n",
       "      <td>05MAR64</td>\n",
       "      <td>35.0</td>\n",
       "      <td>1</td>\n",
       "      <td>10.0</td>\n",
       "      <td>$16,039</td>\n",
       "      <td>No</td>\n",
       "      <td>$124,191</td>\n",
       "      <td>Yes</td>\n",
       "      <td>z_F</td>\n",
       "      <td>...</td>\n",
       "      <td>no</td>\n",
       "      <td>$38,690</td>\n",
       "      <td>2</td>\n",
       "      <td>No</td>\n",
       "      <td>3</td>\n",
       "      <td>$0</td>\n",
       "      <td>10.0</td>\n",
       "      <td>0</td>\n",
       "      <td>Highly Urban/ Urban</td>\n",
       "      <td>1</td>\n",
       "    </tr>\n",
       "    <tr>\n",
       "      <th>4</th>\n",
       "      <td>0</td>\n",
       "      <td>05JUN48</td>\n",
       "      <td>51.0</td>\n",
       "      <td>0</td>\n",
       "      <td>14.0</td>\n",
       "      <td>NaN</td>\n",
       "      <td>No</td>\n",
       "      <td>$306,251</td>\n",
       "      <td>Yes</td>\n",
       "      <td>M</td>\n",
       "      <td>...</td>\n",
       "      <td>yes</td>\n",
       "      <td>$0</td>\n",
       "      <td>0</td>\n",
       "      <td>No</td>\n",
       "      <td>0</td>\n",
       "      <td>$0</td>\n",
       "      <td>6.0</td>\n",
       "      <td>0</td>\n",
       "      <td>Highly Urban/ Urban</td>\n",
       "      <td>0</td>\n",
       "    </tr>\n",
       "  </tbody>\n",
       "</table>\n",
       "<p>5 rows × 27 columns</p>\n",
       "</div>"
      ],
      "text/plain": [
       "   KIDSDRIV    BIRTH   AGE  HOMEKIDS   YOJ   INCOME PARENT1  HOME_VAL MSTATUS  \\\n",
       "0         0  16MAR39  60.0         0  11.0  $67,349      No        $0    z_No   \n",
       "1         0  21JAN56  43.0         0  11.0  $91,449      No  $257,252    z_No   \n",
       "2         0  18NOV51  48.0         0  11.0  $52,881      No        $0    z_No   \n",
       "3         0  05MAR64  35.0         1  10.0  $16,039      No  $124,191     Yes   \n",
       "4         0  05JUN48  51.0         0  14.0      NaN      No  $306,251     Yes   \n",
       "\n",
       "  GENDER  ... RED_CAR OLDCLAIM  CLM_FREQ REVOKED MVR_PTS  CLM_AMT CAR_AGE  \\\n",
       "0      M  ...     yes   $4,461         2      No       3       $0    18.0   \n",
       "1      M  ...     yes       $0         0      No       0       $0     1.0   \n",
       "2      M  ...     yes       $0         0      No       2       $0    10.0   \n",
       "3    z_F  ...      no  $38,690         2      No       3       $0    10.0   \n",
       "4      M  ...     yes       $0         0      No       0       $0     6.0   \n",
       "\n",
       "  CLAIM_FLAG           URBANICITY  REPEAT  \n",
       "0          0  Highly Urban/ Urban       1  \n",
       "1          0  Highly Urban/ Urban       0  \n",
       "2          0  Highly Urban/ Urban       0  \n",
       "3          0  Highly Urban/ Urban       1  \n",
       "4          0  Highly Urban/ Urban       0  \n",
       "\n",
       "[5 rows x 27 columns]"
      ]
     },
     "execution_count": 7,
     "metadata": {},
     "output_type": "execute_result"
    }
   ],
   "source": [
    "df.head()"
   ]
  },
  {
   "cell_type": "code",
   "execution_count": 8,
   "metadata": {
    "scrolled": false
   },
   "outputs": [
    {
     "data": {
      "text/plain": [
       "KIDSDRIV        int64\n",
       "BIRTH          object\n",
       "AGE           float64\n",
       "HOMEKIDS        int64\n",
       "YOJ           float64\n",
       "INCOME         object\n",
       "PARENT1        object\n",
       "HOME_VAL       object\n",
       "MSTATUS        object\n",
       "GENDER         object\n",
       "EDUCATION      object\n",
       "OCCUPATION     object\n",
       "TRAVTIME        int64\n",
       "CAR_USE        object\n",
       "BLUEBOOK       object\n",
       "TIF             int64\n",
       "CAR_TYPE       object\n",
       "RED_CAR        object\n",
       "OLDCLAIM       object\n",
       "CLM_FREQ        int64\n",
       "REVOKED        object\n",
       "MVR_PTS         int64\n",
       "CLM_AMT        object\n",
       "CAR_AGE       float64\n",
       "CLAIM_FLAG      int64\n",
       "URBANICITY     object\n",
       "REPEAT          int64\n",
       "dtype: object"
      ]
     },
     "execution_count": 8,
     "metadata": {},
     "output_type": "execute_result"
    }
   ],
   "source": [
    "# overview of datatypes in each column\n",
    "df.dtypes"
   ]
  },
  {
   "cell_type": "markdown",
   "metadata": {},
   "source": [
    "As we can see above, we have some columns which should be represented numerically but are currently in string form. We'll convert the contents of these columns to numeric so we have them in the correct form for analysis later. In this dataset, these columns seem to be all of the variables represented by dollar values. These columns are: income, home value, bluebook value, claim amount, and old claim (payouts, last 5 years). I'll create a function called to_numeric that will take care of this for us."
   ]
  },
  {
   "cell_type": "code",
   "execution_count": 9,
   "metadata": {
    "scrolled": false
   },
   "outputs": [],
   "source": [
    "# takes a list of column names and a df and performs the following, in place, on the dataframe (doesn't return anything):\n",
    "# converts to string to prevent any type errors\n",
    "# removes dollar signs and comma from dollar values\n",
    "# converts result to numeric using pandas\n",
    "def to_numeric(list_of_columns, df=df):\n",
    "    for i in list_of_columns:\n",
    "        df[i] = df[i].astype(str)\n",
    "        df[i] = df[i].apply(lambda x: x.replace('$','')).apply(lambda x: x.replace(',',''))\n",
    "        df[i] = pd.to_numeric(df[i], errors = 'coerce')\n"
   ]
  },
  {
   "cell_type": "code",
   "execution_count": 10,
   "metadata": {
    "scrolled": false
   },
   "outputs": [],
   "source": [
    "list_of_cols = ['INCOME', 'HOME_VAL', 'BLUEBOOK', 'CLM_AMT', 'OLDCLAIM']\n",
    "to_numeric(list_of_cols)"
   ]
  },
  {
   "cell_type": "code",
   "execution_count": 11,
   "metadata": {
    "scrolled": false
   },
   "outputs": [
    {
     "data": {
      "text/plain": [
       "INCOME      float64\n",
       "HOME_VAL    float64\n",
       "BLUEBOOK      int64\n",
       "CLM_AMT       int64\n",
       "OLDCLAIM      int64\n",
       "dtype: object"
      ]
     },
     "execution_count": 11,
     "metadata": {},
     "output_type": "execute_result"
    }
   ],
   "source": [
    "df[list_of_cols].dtypes"
   ]
  },
  {
   "cell_type": "markdown",
   "metadata": {},
   "source": [
    "The 5 columns were converted to numeric datatypes and are ready for analysis later. Next, we'll check for null values:"
   ]
  },
  {
   "cell_type": "code",
   "execution_count": 12,
   "metadata": {
    "scrolled": false
   },
   "outputs": [
    {
     "data": {
      "text/plain": [
       "KIDSDRIV        0\n",
       "BIRTH           0\n",
       "AGE             7\n",
       "HOMEKIDS        0\n",
       "YOJ           548\n",
       "INCOME        570\n",
       "PARENT1         0\n",
       "HOME_VAL      575\n",
       "MSTATUS         0\n",
       "GENDER          0\n",
       "EDUCATION       0\n",
       "OCCUPATION    665\n",
       "TRAVTIME        0\n",
       "CAR_USE         0\n",
       "BLUEBOOK        0\n",
       "TIF             0\n",
       "CAR_TYPE        0\n",
       "RED_CAR         0\n",
       "OLDCLAIM        0\n",
       "CLM_FREQ        0\n",
       "REVOKED         0\n",
       "MVR_PTS         0\n",
       "CLM_AMT         0\n",
       "CAR_AGE       639\n",
       "CLAIM_FLAG      0\n",
       "URBANICITY      0\n",
       "REPEAT          0\n",
       "dtype: int64"
      ]
     },
     "execution_count": 12,
     "metadata": {},
     "output_type": "execute_result"
    }
   ],
   "source": [
    "# check for null values\n",
    "df.isnull().sum()"
   ]
  },
  {
   "cell_type": "markdown",
   "metadata": {},
   "source": [
    "Every column containing null values is a numeric column, except OCCUPATION. Looking at the dataframe below, it seems that having no information for occupation doesn't affect the data in the rest of the columns. So we'll leave the occupation column alone."
   ]
  },
  {
   "cell_type": "code",
   "execution_count": 13,
   "metadata": {
    "scrolled": false
   },
   "outputs": [
    {
     "data": {
      "text/html": [
       "<div>\n",
       "<style scoped>\n",
       "    .dataframe tbody tr th:only-of-type {\n",
       "        vertical-align: middle;\n",
       "    }\n",
       "\n",
       "    .dataframe tbody tr th {\n",
       "        vertical-align: top;\n",
       "    }\n",
       "\n",
       "    .dataframe thead th {\n",
       "        text-align: right;\n",
       "    }\n",
       "</style>\n",
       "<table border=\"1\" class=\"dataframe\">\n",
       "  <thead>\n",
       "    <tr style=\"text-align: right;\">\n",
       "      <th></th>\n",
       "      <th>KIDSDRIV</th>\n",
       "      <th>BIRTH</th>\n",
       "      <th>AGE</th>\n",
       "      <th>HOMEKIDS</th>\n",
       "      <th>YOJ</th>\n",
       "      <th>INCOME</th>\n",
       "      <th>PARENT1</th>\n",
       "      <th>HOME_VAL</th>\n",
       "      <th>MSTATUS</th>\n",
       "      <th>GENDER</th>\n",
       "      <th>...</th>\n",
       "      <th>RED_CAR</th>\n",
       "      <th>OLDCLAIM</th>\n",
       "      <th>CLM_FREQ</th>\n",
       "      <th>REVOKED</th>\n",
       "      <th>MVR_PTS</th>\n",
       "      <th>CLM_AMT</th>\n",
       "      <th>CAR_AGE</th>\n",
       "      <th>CLAIM_FLAG</th>\n",
       "      <th>URBANICITY</th>\n",
       "      <th>REPEAT</th>\n",
       "    </tr>\n",
       "  </thead>\n",
       "  <tbody>\n",
       "    <tr>\n",
       "      <th>16</th>\n",
       "      <td>0</td>\n",
       "      <td>19JUL46</td>\n",
       "      <td>53.0</td>\n",
       "      <td>0</td>\n",
       "      <td>11.0</td>\n",
       "      <td>130795.0</td>\n",
       "      <td>No</td>\n",
       "      <td>0.0</td>\n",
       "      <td>z_No</td>\n",
       "      <td>M</td>\n",
       "      <td>...</td>\n",
       "      <td>yes</td>\n",
       "      <td>0</td>\n",
       "      <td>0</td>\n",
       "      <td>No</td>\n",
       "      <td>3</td>\n",
       "      <td>1267</td>\n",
       "      <td>10.0</td>\n",
       "      <td>1</td>\n",
       "      <td>Highly Urban/ Urban</td>\n",
       "      <td>0</td>\n",
       "    </tr>\n",
       "    <tr>\n",
       "      <th>40</th>\n",
       "      <td>0</td>\n",
       "      <td>28SEP58</td>\n",
       "      <td>41.0</td>\n",
       "      <td>0</td>\n",
       "      <td>7.0</td>\n",
       "      <td>92842.0</td>\n",
       "      <td>No</td>\n",
       "      <td>286113.0</td>\n",
       "      <td>z_No</td>\n",
       "      <td>M</td>\n",
       "      <td>...</td>\n",
       "      <td>no</td>\n",
       "      <td>1431</td>\n",
       "      <td>2</td>\n",
       "      <td>No</td>\n",
       "      <td>5</td>\n",
       "      <td>0</td>\n",
       "      <td>15.0</td>\n",
       "      <td>0</td>\n",
       "      <td>Highly Urban/ Urban</td>\n",
       "      <td>1</td>\n",
       "    </tr>\n",
       "    <tr>\n",
       "      <th>45</th>\n",
       "      <td>0</td>\n",
       "      <td>01JUN56</td>\n",
       "      <td>43.0</td>\n",
       "      <td>2</td>\n",
       "      <td>17.0</td>\n",
       "      <td>145353.0</td>\n",
       "      <td>No</td>\n",
       "      <td>418785.0</td>\n",
       "      <td>Yes</td>\n",
       "      <td>z_F</td>\n",
       "      <td>...</td>\n",
       "      <td>no</td>\n",
       "      <td>0</td>\n",
       "      <td>0</td>\n",
       "      <td>No</td>\n",
       "      <td>0</td>\n",
       "      <td>0</td>\n",
       "      <td>15.0</td>\n",
       "      <td>0</td>\n",
       "      <td>Highly Urban/ Urban</td>\n",
       "      <td>0</td>\n",
       "    </tr>\n",
       "    <tr>\n",
       "      <th>77</th>\n",
       "      <td>0</td>\n",
       "      <td>05SEP50</td>\n",
       "      <td>49.0</td>\n",
       "      <td>0</td>\n",
       "      <td>9.0</td>\n",
       "      <td>NaN</td>\n",
       "      <td>No</td>\n",
       "      <td>0.0</td>\n",
       "      <td>z_No</td>\n",
       "      <td>M</td>\n",
       "      <td>...</td>\n",
       "      <td>no</td>\n",
       "      <td>34351</td>\n",
       "      <td>2</td>\n",
       "      <td>Yes</td>\n",
       "      <td>2</td>\n",
       "      <td>0</td>\n",
       "      <td>18.0</td>\n",
       "      <td>0</td>\n",
       "      <td>Highly Urban/ Urban</td>\n",
       "      <td>1</td>\n",
       "    </tr>\n",
       "    <tr>\n",
       "      <th>80</th>\n",
       "      <td>0</td>\n",
       "      <td>01JAN53</td>\n",
       "      <td>46.0</td>\n",
       "      <td>0</td>\n",
       "      <td>14.0</td>\n",
       "      <td>NaN</td>\n",
       "      <td>No</td>\n",
       "      <td>397661.0</td>\n",
       "      <td>z_No</td>\n",
       "      <td>M</td>\n",
       "      <td>...</td>\n",
       "      <td>yes</td>\n",
       "      <td>0</td>\n",
       "      <td>0</td>\n",
       "      <td>Yes</td>\n",
       "      <td>1</td>\n",
       "      <td>0</td>\n",
       "      <td>12.0</td>\n",
       "      <td>0</td>\n",
       "      <td>Highly Urban/ Urban</td>\n",
       "      <td>0</td>\n",
       "    </tr>\n",
       "  </tbody>\n",
       "</table>\n",
       "<p>5 rows × 27 columns</p>\n",
       "</div>"
      ],
      "text/plain": [
       "    KIDSDRIV    BIRTH   AGE  HOMEKIDS   YOJ    INCOME PARENT1  HOME_VAL  \\\n",
       "16         0  19JUL46  53.0         0  11.0  130795.0      No       0.0   \n",
       "40         0  28SEP58  41.0         0   7.0   92842.0      No  286113.0   \n",
       "45         0  01JUN56  43.0         2  17.0  145353.0      No  418785.0   \n",
       "77         0  05SEP50  49.0         0   9.0       NaN      No       0.0   \n",
       "80         0  01JAN53  46.0         0  14.0       NaN      No  397661.0   \n",
       "\n",
       "   MSTATUS GENDER  ... RED_CAR OLDCLAIM  CLM_FREQ REVOKED  MVR_PTS  CLM_AMT  \\\n",
       "16    z_No      M  ...     yes        0         0      No        3     1267   \n",
       "40    z_No      M  ...      no     1431         2      No        5        0   \n",
       "45     Yes    z_F  ...      no        0         0      No        0        0   \n",
       "77    z_No      M  ...      no    34351         2     Yes        2        0   \n",
       "80    z_No      M  ...     yes        0         0     Yes        1        0   \n",
       "\n",
       "   CAR_AGE CLAIM_FLAG           URBANICITY  REPEAT  \n",
       "16    10.0          1  Highly Urban/ Urban       0  \n",
       "40    15.0          0  Highly Urban/ Urban       1  \n",
       "45    15.0          0  Highly Urban/ Urban       0  \n",
       "77    18.0          0  Highly Urban/ Urban       1  \n",
       "80    12.0          0  Highly Urban/ Urban       0  \n",
       "\n",
       "[5 rows x 27 columns]"
      ]
     },
     "execution_count": 13,
     "metadata": {},
     "output_type": "execute_result"
    }
   ],
   "source": [
    "df[df.OCCUPATION.isnull()].head()"
   ]
  },
  {
   "cell_type": "markdown",
   "metadata": {},
   "source": [
    "As for the numeric columns, it is possible for their value to truly be 0. For example, if the customer did not have a job or own a house, then their income or their home value would be $0. For this reason, I won't replace all null values with 0. Instead, I'll replace the null values in each column with the mean of that column."
   ]
  },
  {
   "cell_type": "code",
   "execution_count": 14,
   "metadata": {
    "scrolled": false
   },
   "outputs": [
    {
     "data": {
      "text/plain": [
       "KIDSDRIV           0.169288\n",
       "AGE               44.837397\n",
       "HOMEKIDS           0.720443\n",
       "YOJ               10.474062\n",
       "INCOME         61572.073263\n",
       "HOME_VAL      154523.018608\n",
       "TRAVTIME          33.416424\n",
       "BLUEBOOK       15659.923316\n",
       "TIF                5.329159\n",
       "OLDCLAIM        4033.977868\n",
       "CLM_FREQ           0.800718\n",
       "MVR_PTS            1.710153\n",
       "CLM_AMT         1511.266453\n",
       "CAR_AGE            8.298148\n",
       "CLAIM_FLAG         0.266550\n",
       "REPEAT             0.389245\n",
       "dtype: float64"
      ]
     },
     "execution_count": 14,
     "metadata": {},
     "output_type": "execute_result"
    }
   ],
   "source": [
    "df.mean()"
   ]
  },
  {
   "cell_type": "code",
   "execution_count": 15,
   "metadata": {
    "scrolled": false
   },
   "outputs": [],
   "source": [
    "df = df.fillna(df.mean())"
   ]
  },
  {
   "cell_type": "code",
   "execution_count": 16,
   "metadata": {
    "scrolled": false
   },
   "outputs": [
    {
     "data": {
      "text/plain": [
       "KIDSDRIV        0\n",
       "BIRTH           0\n",
       "AGE             0\n",
       "HOMEKIDS        0\n",
       "YOJ             0\n",
       "INCOME          0\n",
       "PARENT1         0\n",
       "HOME_VAL        0\n",
       "MSTATUS         0\n",
       "GENDER          0\n",
       "EDUCATION       0\n",
       "OCCUPATION    665\n",
       "TRAVTIME        0\n",
       "CAR_USE         0\n",
       "BLUEBOOK        0\n",
       "TIF             0\n",
       "CAR_TYPE        0\n",
       "RED_CAR         0\n",
       "OLDCLAIM        0\n",
       "CLM_FREQ        0\n",
       "REVOKED         0\n",
       "MVR_PTS         0\n",
       "CLM_AMT         0\n",
       "CAR_AGE         0\n",
       "CLAIM_FLAG      0\n",
       "URBANICITY      0\n",
       "REPEAT          0\n",
       "dtype: int64"
      ]
     },
     "execution_count": 16,
     "metadata": {},
     "output_type": "execute_result"
    }
   ],
   "source": [
    "df.isnull().sum()"
   ]
  },
  {
   "cell_type": "markdown",
   "metadata": {},
   "source": [
    "Null values taken care of. Next, we'll clean some of the columns that have a strange 'z_' before their data (see Education column above, for example). After some exploration, I found that there was 1 value in each of the following columns with the 'z_' suffix, so I replaced each of those values with the proper value using lambda functions."
   ]
  },
  {
   "cell_type": "code",
   "execution_count": 17,
   "metadata": {
    "scrolled": false
   },
   "outputs": [],
   "source": [
    "df.MSTATUS = df.MSTATUS.apply(lambda x: 'No' if x == 'z_No' else x)\n",
    "df.GENDER = df.GENDER.apply(lambda x: 'F' if x == 'z_F' else x)\n",
    "df.EDUCATION = df.EDUCATION.apply(lambda x: 'High School' if x == 'z_High School' else x)\n",
    "df.OCCUPATION = df.OCCUPATION.apply(lambda x: 'Blue Collar' if x == 'z_Blue Collar' else x)\n",
    "df.CAR_TYPE = df.CAR_TYPE.apply(lambda x: 'SUV' if x == 'z_SUV' else x)\n",
    "df.URBANICITY = df.URBANICITY.apply(lambda x: 'Highly Rural/ Rural' if x == 'z_Highly Rural/ Rural' else x)"
   ]
  },
  {
   "cell_type": "code",
   "execution_count": 18,
   "metadata": {
    "scrolled": false
   },
   "outputs": [],
   "source": [
    "# Update urbanicity values to be more readable\n",
    "df['URBANICITY'] = df.URBANICITY.apply(lambda x: x[-5:])"
   ]
  },
  {
   "cell_type": "code",
   "execution_count": 19,
   "metadata": {
    "scrolled": false
   },
   "outputs": [
    {
     "data": {
      "text/plain": [
       "Urban    8230\n",
       "Rural    2072\n",
       "Name: URBANICITY, dtype: int64"
      ]
     },
     "execution_count": 19,
     "metadata": {},
     "output_type": "execute_result"
    }
   ],
   "source": [
    "df.URBANICITY.value_counts()"
   ]
  },
  {
   "cell_type": "code",
   "execution_count": 20,
   "metadata": {
    "scrolled": false
   },
   "outputs": [
    {
     "data": {
      "text/html": [
       "<div>\n",
       "<style scoped>\n",
       "    .dataframe tbody tr th:only-of-type {\n",
       "        vertical-align: middle;\n",
       "    }\n",
       "\n",
       "    .dataframe tbody tr th {\n",
       "        vertical-align: top;\n",
       "    }\n",
       "\n",
       "    .dataframe thead th {\n",
       "        text-align: right;\n",
       "    }\n",
       "</style>\n",
       "<table border=\"1\" class=\"dataframe\">\n",
       "  <thead>\n",
       "    <tr style=\"text-align: right;\">\n",
       "      <th></th>\n",
       "      <th>KIDSDRIV</th>\n",
       "      <th>BIRTH</th>\n",
       "      <th>AGE</th>\n",
       "      <th>HOMEKIDS</th>\n",
       "      <th>YOJ</th>\n",
       "      <th>INCOME</th>\n",
       "      <th>PARENT1</th>\n",
       "      <th>HOME_VAL</th>\n",
       "      <th>MSTATUS</th>\n",
       "      <th>GENDER</th>\n",
       "      <th>...</th>\n",
       "      <th>RED_CAR</th>\n",
       "      <th>OLDCLAIM</th>\n",
       "      <th>CLM_FREQ</th>\n",
       "      <th>REVOKED</th>\n",
       "      <th>MVR_PTS</th>\n",
       "      <th>CLM_AMT</th>\n",
       "      <th>CAR_AGE</th>\n",
       "      <th>CLAIM_FLAG</th>\n",
       "      <th>URBANICITY</th>\n",
       "      <th>REPEAT</th>\n",
       "    </tr>\n",
       "  </thead>\n",
       "  <tbody>\n",
       "    <tr>\n",
       "      <th>0</th>\n",
       "      <td>0</td>\n",
       "      <td>16MAR39</td>\n",
       "      <td>60.0</td>\n",
       "      <td>0</td>\n",
       "      <td>11.0</td>\n",
       "      <td>67349.000000</td>\n",
       "      <td>No</td>\n",
       "      <td>0.0</td>\n",
       "      <td>No</td>\n",
       "      <td>M</td>\n",
       "      <td>...</td>\n",
       "      <td>yes</td>\n",
       "      <td>4461</td>\n",
       "      <td>2</td>\n",
       "      <td>No</td>\n",
       "      <td>3</td>\n",
       "      <td>0</td>\n",
       "      <td>18.0</td>\n",
       "      <td>0</td>\n",
       "      <td>Urban</td>\n",
       "      <td>1</td>\n",
       "    </tr>\n",
       "    <tr>\n",
       "      <th>1</th>\n",
       "      <td>0</td>\n",
       "      <td>21JAN56</td>\n",
       "      <td>43.0</td>\n",
       "      <td>0</td>\n",
       "      <td>11.0</td>\n",
       "      <td>91449.000000</td>\n",
       "      <td>No</td>\n",
       "      <td>257252.0</td>\n",
       "      <td>No</td>\n",
       "      <td>M</td>\n",
       "      <td>...</td>\n",
       "      <td>yes</td>\n",
       "      <td>0</td>\n",
       "      <td>0</td>\n",
       "      <td>No</td>\n",
       "      <td>0</td>\n",
       "      <td>0</td>\n",
       "      <td>1.0</td>\n",
       "      <td>0</td>\n",
       "      <td>Urban</td>\n",
       "      <td>0</td>\n",
       "    </tr>\n",
       "    <tr>\n",
       "      <th>2</th>\n",
       "      <td>0</td>\n",
       "      <td>18NOV51</td>\n",
       "      <td>48.0</td>\n",
       "      <td>0</td>\n",
       "      <td>11.0</td>\n",
       "      <td>52881.000000</td>\n",
       "      <td>No</td>\n",
       "      <td>0.0</td>\n",
       "      <td>No</td>\n",
       "      <td>M</td>\n",
       "      <td>...</td>\n",
       "      <td>yes</td>\n",
       "      <td>0</td>\n",
       "      <td>0</td>\n",
       "      <td>No</td>\n",
       "      <td>2</td>\n",
       "      <td>0</td>\n",
       "      <td>10.0</td>\n",
       "      <td>0</td>\n",
       "      <td>Urban</td>\n",
       "      <td>0</td>\n",
       "    </tr>\n",
       "    <tr>\n",
       "      <th>3</th>\n",
       "      <td>0</td>\n",
       "      <td>05MAR64</td>\n",
       "      <td>35.0</td>\n",
       "      <td>1</td>\n",
       "      <td>10.0</td>\n",
       "      <td>16039.000000</td>\n",
       "      <td>No</td>\n",
       "      <td>124191.0</td>\n",
       "      <td>Yes</td>\n",
       "      <td>F</td>\n",
       "      <td>...</td>\n",
       "      <td>no</td>\n",
       "      <td>38690</td>\n",
       "      <td>2</td>\n",
       "      <td>No</td>\n",
       "      <td>3</td>\n",
       "      <td>0</td>\n",
       "      <td>10.0</td>\n",
       "      <td>0</td>\n",
       "      <td>Urban</td>\n",
       "      <td>1</td>\n",
       "    </tr>\n",
       "    <tr>\n",
       "      <th>4</th>\n",
       "      <td>0</td>\n",
       "      <td>05JUN48</td>\n",
       "      <td>51.0</td>\n",
       "      <td>0</td>\n",
       "      <td>14.0</td>\n",
       "      <td>61572.073263</td>\n",
       "      <td>No</td>\n",
       "      <td>306251.0</td>\n",
       "      <td>Yes</td>\n",
       "      <td>M</td>\n",
       "      <td>...</td>\n",
       "      <td>yes</td>\n",
       "      <td>0</td>\n",
       "      <td>0</td>\n",
       "      <td>No</td>\n",
       "      <td>0</td>\n",
       "      <td>0</td>\n",
       "      <td>6.0</td>\n",
       "      <td>0</td>\n",
       "      <td>Urban</td>\n",
       "      <td>0</td>\n",
       "    </tr>\n",
       "    <tr>\n",
       "      <th>...</th>\n",
       "      <td>...</td>\n",
       "      <td>...</td>\n",
       "      <td>...</td>\n",
       "      <td>...</td>\n",
       "      <td>...</td>\n",
       "      <td>...</td>\n",
       "      <td>...</td>\n",
       "      <td>...</td>\n",
       "      <td>...</td>\n",
       "      <td>...</td>\n",
       "      <td>...</td>\n",
       "      <td>...</td>\n",
       "      <td>...</td>\n",
       "      <td>...</td>\n",
       "      <td>...</td>\n",
       "      <td>...</td>\n",
       "      <td>...</td>\n",
       "      <td>...</td>\n",
       "      <td>...</td>\n",
       "      <td>...</td>\n",
       "      <td>...</td>\n",
       "    </tr>\n",
       "    <tr>\n",
       "      <th>10297</th>\n",
       "      <td>1</td>\n",
       "      <td>13AUG54</td>\n",
       "      <td>45.0</td>\n",
       "      <td>2</td>\n",
       "      <td>9.0</td>\n",
       "      <td>164669.000000</td>\n",
       "      <td>No</td>\n",
       "      <td>386273.0</td>\n",
       "      <td>Yes</td>\n",
       "      <td>M</td>\n",
       "      <td>...</td>\n",
       "      <td>no</td>\n",
       "      <td>0</td>\n",
       "      <td>0</td>\n",
       "      <td>No</td>\n",
       "      <td>2</td>\n",
       "      <td>0</td>\n",
       "      <td>17.0</td>\n",
       "      <td>0</td>\n",
       "      <td>Urban</td>\n",
       "      <td>0</td>\n",
       "    </tr>\n",
       "    <tr>\n",
       "      <th>10298</th>\n",
       "      <td>0</td>\n",
       "      <td>17JUN53</td>\n",
       "      <td>46.0</td>\n",
       "      <td>0</td>\n",
       "      <td>9.0</td>\n",
       "      <td>107204.000000</td>\n",
       "      <td>No</td>\n",
       "      <td>332591.0</td>\n",
       "      <td>Yes</td>\n",
       "      <td>M</td>\n",
       "      <td>...</td>\n",
       "      <td>no</td>\n",
       "      <td>0</td>\n",
       "      <td>0</td>\n",
       "      <td>No</td>\n",
       "      <td>0</td>\n",
       "      <td>0</td>\n",
       "      <td>1.0</td>\n",
       "      <td>0</td>\n",
       "      <td>Urban</td>\n",
       "      <td>0</td>\n",
       "    </tr>\n",
       "    <tr>\n",
       "      <th>10299</th>\n",
       "      <td>0</td>\n",
       "      <td>18JUN51</td>\n",
       "      <td>48.0</td>\n",
       "      <td>0</td>\n",
       "      <td>15.0</td>\n",
       "      <td>39837.000000</td>\n",
       "      <td>No</td>\n",
       "      <td>170611.0</td>\n",
       "      <td>Yes</td>\n",
       "      <td>F</td>\n",
       "      <td>...</td>\n",
       "      <td>no</td>\n",
       "      <td>0</td>\n",
       "      <td>0</td>\n",
       "      <td>No</td>\n",
       "      <td>0</td>\n",
       "      <td>0</td>\n",
       "      <td>1.0</td>\n",
       "      <td>0</td>\n",
       "      <td>Urban</td>\n",
       "      <td>0</td>\n",
       "    </tr>\n",
       "    <tr>\n",
       "      <th>10300</th>\n",
       "      <td>0</td>\n",
       "      <td>12DEC48</td>\n",
       "      <td>50.0</td>\n",
       "      <td>0</td>\n",
       "      <td>7.0</td>\n",
       "      <td>43445.000000</td>\n",
       "      <td>No</td>\n",
       "      <td>149248.0</td>\n",
       "      <td>Yes</td>\n",
       "      <td>F</td>\n",
       "      <td>...</td>\n",
       "      <td>no</td>\n",
       "      <td>0</td>\n",
       "      <td>0</td>\n",
       "      <td>No</td>\n",
       "      <td>0</td>\n",
       "      <td>0</td>\n",
       "      <td>11.0</td>\n",
       "      <td>0</td>\n",
       "      <td>Urban</td>\n",
       "      <td>0</td>\n",
       "    </tr>\n",
       "    <tr>\n",
       "      <th>10301</th>\n",
       "      <td>0</td>\n",
       "      <td>27FEB47</td>\n",
       "      <td>52.0</td>\n",
       "      <td>0</td>\n",
       "      <td>11.0</td>\n",
       "      <td>53235.000000</td>\n",
       "      <td>No</td>\n",
       "      <td>197017.0</td>\n",
       "      <td>Yes</td>\n",
       "      <td>F</td>\n",
       "      <td>...</td>\n",
       "      <td>no</td>\n",
       "      <td>0</td>\n",
       "      <td>0</td>\n",
       "      <td>No</td>\n",
       "      <td>0</td>\n",
       "      <td>0</td>\n",
       "      <td>9.0</td>\n",
       "      <td>0</td>\n",
       "      <td>Rural</td>\n",
       "      <td>0</td>\n",
       "    </tr>\n",
       "  </tbody>\n",
       "</table>\n",
       "<p>10302 rows × 27 columns</p>\n",
       "</div>"
      ],
      "text/plain": [
       "       KIDSDRIV    BIRTH   AGE  HOMEKIDS   YOJ         INCOME PARENT1  \\\n",
       "0             0  16MAR39  60.0         0  11.0   67349.000000      No   \n",
       "1             0  21JAN56  43.0         0  11.0   91449.000000      No   \n",
       "2             0  18NOV51  48.0         0  11.0   52881.000000      No   \n",
       "3             0  05MAR64  35.0         1  10.0   16039.000000      No   \n",
       "4             0  05JUN48  51.0         0  14.0   61572.073263      No   \n",
       "...         ...      ...   ...       ...   ...            ...     ...   \n",
       "10297         1  13AUG54  45.0         2   9.0  164669.000000      No   \n",
       "10298         0  17JUN53  46.0         0   9.0  107204.000000      No   \n",
       "10299         0  18JUN51  48.0         0  15.0   39837.000000      No   \n",
       "10300         0  12DEC48  50.0         0   7.0   43445.000000      No   \n",
       "10301         0  27FEB47  52.0         0  11.0   53235.000000      No   \n",
       "\n",
       "       HOME_VAL MSTATUS GENDER  ... RED_CAR OLDCLAIM  CLM_FREQ REVOKED  \\\n",
       "0           0.0      No      M  ...     yes     4461         2      No   \n",
       "1      257252.0      No      M  ...     yes        0         0      No   \n",
       "2           0.0      No      M  ...     yes        0         0      No   \n",
       "3      124191.0     Yes      F  ...      no    38690         2      No   \n",
       "4      306251.0     Yes      M  ...     yes        0         0      No   \n",
       "...         ...     ...    ...  ...     ...      ...       ...     ...   \n",
       "10297  386273.0     Yes      M  ...      no        0         0      No   \n",
       "10298  332591.0     Yes      M  ...      no        0         0      No   \n",
       "10299  170611.0     Yes      F  ...      no        0         0      No   \n",
       "10300  149248.0     Yes      F  ...      no        0         0      No   \n",
       "10301  197017.0     Yes      F  ...      no        0         0      No   \n",
       "\n",
       "       MVR_PTS  CLM_AMT CAR_AGE CLAIM_FLAG  URBANICITY  REPEAT  \n",
       "0            3        0    18.0          0       Urban       1  \n",
       "1            0        0     1.0          0       Urban       0  \n",
       "2            2        0    10.0          0       Urban       0  \n",
       "3            3        0    10.0          0       Urban       1  \n",
       "4            0        0     6.0          0       Urban       0  \n",
       "...        ...      ...     ...        ...         ...     ...  \n",
       "10297        2        0    17.0          0       Urban       0  \n",
       "10298        0        0     1.0          0       Urban       0  \n",
       "10299        0        0     1.0          0       Urban       0  \n",
       "10300        0        0    11.0          0       Urban       0  \n",
       "10301        0        0     9.0          0       Rural       0  \n",
       "\n",
       "[10302 rows x 27 columns]"
      ]
     },
     "execution_count": 20,
     "metadata": {},
     "output_type": "execute_result"
    }
   ],
   "source": [
    "# our cleaned dataset!\n",
    "df"
   ]
  },
  {
   "cell_type": "code",
   "execution_count": 21,
   "metadata": {
    "scrolled": false
   },
   "outputs": [
    {
     "data": {
      "text/html": [
       "<div>\n",
       "<style scoped>\n",
       "    .dataframe tbody tr th:only-of-type {\n",
       "        vertical-align: middle;\n",
       "    }\n",
       "\n",
       "    .dataframe tbody tr th {\n",
       "        vertical-align: top;\n",
       "    }\n",
       "\n",
       "    .dataframe thead th {\n",
       "        text-align: right;\n",
       "    }\n",
       "</style>\n",
       "<table border=\"1\" class=\"dataframe\">\n",
       "  <thead>\n",
       "    <tr style=\"text-align: right;\">\n",
       "      <th></th>\n",
       "      <th>KIDSDRIV</th>\n",
       "      <th>AGE</th>\n",
       "      <th>HOMEKIDS</th>\n",
       "      <th>YOJ</th>\n",
       "      <th>INCOME</th>\n",
       "      <th>HOME_VAL</th>\n",
       "      <th>TRAVTIME</th>\n",
       "      <th>BLUEBOOK</th>\n",
       "      <th>TIF</th>\n",
       "      <th>OLDCLAIM</th>\n",
       "      <th>CLM_FREQ</th>\n",
       "      <th>MVR_PTS</th>\n",
       "      <th>CLM_AMT</th>\n",
       "      <th>CAR_AGE</th>\n",
       "      <th>CLAIM_FLAG</th>\n",
       "      <th>REPEAT</th>\n",
       "    </tr>\n",
       "  </thead>\n",
       "  <tbody>\n",
       "    <tr>\n",
       "      <th>count</th>\n",
       "      <td>10302.000000</td>\n",
       "      <td>10302.000000</td>\n",
       "      <td>10302.000000</td>\n",
       "      <td>10302.000000</td>\n",
       "      <td>10302.000000</td>\n",
       "      <td>10302.000000</td>\n",
       "      <td>10302.000000</td>\n",
       "      <td>10302.000000</td>\n",
       "      <td>10302.000000</td>\n",
       "      <td>10302.000000</td>\n",
       "      <td>10302.000000</td>\n",
       "      <td>10302.000000</td>\n",
       "      <td>10302.000000</td>\n",
       "      <td>10302.000000</td>\n",
       "      <td>10302.000000</td>\n",
       "      <td>10302.000000</td>\n",
       "    </tr>\n",
       "    <tr>\n",
       "      <th>mean</th>\n",
       "      <td>0.169288</td>\n",
       "      <td>44.837397</td>\n",
       "      <td>0.720443</td>\n",
       "      <td>10.474062</td>\n",
       "      <td>61572.073263</td>\n",
       "      <td>154523.018608</td>\n",
       "      <td>33.416424</td>\n",
       "      <td>15659.923316</td>\n",
       "      <td>5.329159</td>\n",
       "      <td>4033.977868</td>\n",
       "      <td>0.800718</td>\n",
       "      <td>1.710153</td>\n",
       "      <td>1511.266453</td>\n",
       "      <td>8.298148</td>\n",
       "      <td>0.266550</td>\n",
       "      <td>0.389245</td>\n",
       "    </tr>\n",
       "    <tr>\n",
       "      <th>std</th>\n",
       "      <td>0.506512</td>\n",
       "      <td>8.603520</td>\n",
       "      <td>1.116323</td>\n",
       "      <td>3.998154</td>\n",
       "      <td>46125.509765</td>\n",
       "      <td>125531.029634</td>\n",
       "      <td>15.869687</td>\n",
       "      <td>8428.765264</td>\n",
       "      <td>4.110795</td>\n",
       "      <td>8733.143119</td>\n",
       "      <td>1.154079</td>\n",
       "      <td>2.159015</td>\n",
       "      <td>4725.249896</td>\n",
       "      <td>5.534371</td>\n",
       "      <td>0.442177</td>\n",
       "      <td>0.487603</td>\n",
       "    </tr>\n",
       "    <tr>\n",
       "      <th>min</th>\n",
       "      <td>0.000000</td>\n",
       "      <td>16.000000</td>\n",
       "      <td>0.000000</td>\n",
       "      <td>0.000000</td>\n",
       "      <td>0.000000</td>\n",
       "      <td>0.000000</td>\n",
       "      <td>5.000000</td>\n",
       "      <td>1500.000000</td>\n",
       "      <td>1.000000</td>\n",
       "      <td>0.000000</td>\n",
       "      <td>0.000000</td>\n",
       "      <td>0.000000</td>\n",
       "      <td>0.000000</td>\n",
       "      <td>-3.000000</td>\n",
       "      <td>0.000000</td>\n",
       "      <td>0.000000</td>\n",
       "    </tr>\n",
       "    <tr>\n",
       "      <th>25%</th>\n",
       "      <td>0.000000</td>\n",
       "      <td>39.000000</td>\n",
       "      <td>0.000000</td>\n",
       "      <td>9.000000</td>\n",
       "      <td>29164.750000</td>\n",
       "      <td>0.000000</td>\n",
       "      <td>22.000000</td>\n",
       "      <td>9200.000000</td>\n",
       "      <td>1.000000</td>\n",
       "      <td>0.000000</td>\n",
       "      <td>0.000000</td>\n",
       "      <td>0.000000</td>\n",
       "      <td>0.000000</td>\n",
       "      <td>3.000000</td>\n",
       "      <td>0.000000</td>\n",
       "      <td>0.000000</td>\n",
       "    </tr>\n",
       "    <tr>\n",
       "      <th>50%</th>\n",
       "      <td>0.000000</td>\n",
       "      <td>45.000000</td>\n",
       "      <td>0.000000</td>\n",
       "      <td>11.000000</td>\n",
       "      <td>57084.000000</td>\n",
       "      <td>154523.018608</td>\n",
       "      <td>33.000000</td>\n",
       "      <td>14400.000000</td>\n",
       "      <td>4.000000</td>\n",
       "      <td>0.000000</td>\n",
       "      <td>0.000000</td>\n",
       "      <td>1.000000</td>\n",
       "      <td>0.000000</td>\n",
       "      <td>8.298148</td>\n",
       "      <td>0.000000</td>\n",
       "      <td>0.000000</td>\n",
       "    </tr>\n",
       "    <tr>\n",
       "      <th>75%</th>\n",
       "      <td>0.000000</td>\n",
       "      <td>51.000000</td>\n",
       "      <td>1.000000</td>\n",
       "      <td>13.000000</td>\n",
       "      <td>83231.750000</td>\n",
       "      <td>233085.000000</td>\n",
       "      <td>44.000000</td>\n",
       "      <td>20890.000000</td>\n",
       "      <td>7.000000</td>\n",
       "      <td>4647.500000</td>\n",
       "      <td>2.000000</td>\n",
       "      <td>3.000000</td>\n",
       "      <td>1144.750000</td>\n",
       "      <td>12.000000</td>\n",
       "      <td>1.000000</td>\n",
       "      <td>1.000000</td>\n",
       "    </tr>\n",
       "    <tr>\n",
       "      <th>max</th>\n",
       "      <td>4.000000</td>\n",
       "      <td>81.000000</td>\n",
       "      <td>5.000000</td>\n",
       "      <td>23.000000</td>\n",
       "      <td>367030.000000</td>\n",
       "      <td>885282.000000</td>\n",
       "      <td>142.000000</td>\n",
       "      <td>69740.000000</td>\n",
       "      <td>25.000000</td>\n",
       "      <td>57037.000000</td>\n",
       "      <td>5.000000</td>\n",
       "      <td>13.000000</td>\n",
       "      <td>123247.000000</td>\n",
       "      <td>28.000000</td>\n",
       "      <td>1.000000</td>\n",
       "      <td>1.000000</td>\n",
       "    </tr>\n",
       "  </tbody>\n",
       "</table>\n",
       "</div>"
      ],
      "text/plain": [
       "           KIDSDRIV           AGE      HOMEKIDS           YOJ         INCOME  \\\n",
       "count  10302.000000  10302.000000  10302.000000  10302.000000   10302.000000   \n",
       "mean       0.169288     44.837397      0.720443     10.474062   61572.073263   \n",
       "std        0.506512      8.603520      1.116323      3.998154   46125.509765   \n",
       "min        0.000000     16.000000      0.000000      0.000000       0.000000   \n",
       "25%        0.000000     39.000000      0.000000      9.000000   29164.750000   \n",
       "50%        0.000000     45.000000      0.000000     11.000000   57084.000000   \n",
       "75%        0.000000     51.000000      1.000000     13.000000   83231.750000   \n",
       "max        4.000000     81.000000      5.000000     23.000000  367030.000000   \n",
       "\n",
       "            HOME_VAL      TRAVTIME      BLUEBOOK           TIF      OLDCLAIM  \\\n",
       "count   10302.000000  10302.000000  10302.000000  10302.000000  10302.000000   \n",
       "mean   154523.018608     33.416424  15659.923316      5.329159   4033.977868   \n",
       "std    125531.029634     15.869687   8428.765264      4.110795   8733.143119   \n",
       "min         0.000000      5.000000   1500.000000      1.000000      0.000000   \n",
       "25%         0.000000     22.000000   9200.000000      1.000000      0.000000   \n",
       "50%    154523.018608     33.000000  14400.000000      4.000000      0.000000   \n",
       "75%    233085.000000     44.000000  20890.000000      7.000000   4647.500000   \n",
       "max    885282.000000    142.000000  69740.000000     25.000000  57037.000000   \n",
       "\n",
       "           CLM_FREQ       MVR_PTS        CLM_AMT       CAR_AGE    CLAIM_FLAG  \\\n",
       "count  10302.000000  10302.000000   10302.000000  10302.000000  10302.000000   \n",
       "mean       0.800718      1.710153    1511.266453      8.298148      0.266550   \n",
       "std        1.154079      2.159015    4725.249896      5.534371      0.442177   \n",
       "min        0.000000      0.000000       0.000000     -3.000000      0.000000   \n",
       "25%        0.000000      0.000000       0.000000      3.000000      0.000000   \n",
       "50%        0.000000      1.000000       0.000000      8.298148      0.000000   \n",
       "75%        2.000000      3.000000    1144.750000     12.000000      1.000000   \n",
       "max        5.000000     13.000000  123247.000000     28.000000      1.000000   \n",
       "\n",
       "             REPEAT  \n",
       "count  10302.000000  \n",
       "mean       0.389245  \n",
       "std        0.487603  \n",
       "min        0.000000  \n",
       "25%        0.000000  \n",
       "50%        0.000000  \n",
       "75%        1.000000  \n",
       "max        1.000000  "
      ]
     },
     "execution_count": 21,
     "metadata": {},
     "output_type": "execute_result"
    }
   ],
   "source": [
    "df.describe()"
   ]
  },
  {
   "cell_type": "markdown",
   "metadata": {},
   "source": [
    "Export this cleaned dataset to a csv called cleaned_car_data:"
   ]
  },
  {
   "cell_type": "code",
   "execution_count": 22,
   "metadata": {
    "scrolled": false
   },
   "outputs": [],
   "source": [
    "# Writing to a CSV file\n",
    "df.to_csv('cleaned_car_data.csv', index=False)"
   ]
  },
  {
   "cell_type": "code",
   "execution_count": 23,
   "metadata": {
    "scrolled": false
   },
   "outputs": [],
   "source": [
    "# read in our data\n",
    "df = pd.read_csv('cleaned_car_data.csv')"
   ]
  },
  {
   "cell_type": "markdown",
   "metadata": {},
   "source": [
    "## Part 3: Exploratory Data Analysis"
   ]
  },
  {
   "cell_type": "markdown",
   "metadata": {},
   "source": [
    "Our target variable of interest: whether or not customers have made repeat claims. This variable is recorded in the form of a 0 if they have made 1 claim in the past five years, and a 1 if they have made more than 1 claim in the past five years."
   ]
  },
  {
   "cell_type": "code",
   "execution_count": 24,
   "metadata": {
    "scrolled": false
   },
   "outputs": [
    {
     "data": {
      "image/png": "[encoded data removed]",
      "text/plain": [
       "<Figure size 576x432 with 1 Axes>"
      ]
     },
     "metadata": {
      "needs_background": "light"
     },
     "output_type": "display_data"
    }
   ],
   "source": [
    "figure(figsize=(8,6))\n",
    "sns.countplot(x='REPEAT',data=df)\n",
    "plt.xlabel('Repeat claim status')\n",
    "plt.xticks([0,1],labels=['One claim','More than one claim'])\n",
    "plt.title('Distribution of Insurance Claims')\n",
    "plt.show()"
   ]
  },
  {
   "cell_type": "markdown",
   "metadata": {},
   "source": [
    "More customers in this database are first-time offenders than repeat offenders by about 2000 claims. Repeat offenders make up about 38.9% of this set of claims."
   ]
  },
  {
   "cell_type": "markdown",
   "metadata": {},
   "source": [
    "### Gender\n",
    "Does gender have any influence on our target variable?"
   ]
  },
  {
   "cell_type": "code",
   "execution_count": 25,
   "metadata": {
    "scrolled": false
   },
   "outputs": [
    {
     "name": "stdout",
     "output_type": "stream",
     "text": [
      "How many Male drivers made repeat claims?\n",
      "39.02%\n",
      "How many Female drivers made repeat claims?\n",
      "38.85%\n"
     ]
    },
    {
     "data": {
      "image/png": "[encoded data removed]",
      "text/plain": [
       "<Figure size 720x432 with 1 Axes>"
      ]
     },
     "metadata": {
      "needs_background": "light"
     },
     "output_type": "display_data"
    }
   ],
   "source": [
    "print(\"How many Male drivers made repeat claims?\")\n",
    "print(\"{:.2%}\".format(df[\"REPEAT\"][df[\"GENDER\"] == 'M'].value_counts(normalize = True)[1]))\n",
    "\n",
    "print(\"How many Female drivers made repeat claims?\")\n",
    "print(\"{:.2%}\".format(df[\"REPEAT\"][df[\"GENDER\"] == 'F'].value_counts(normalize = True)[1]))\n",
    "figure(figsize=(10,6))\n",
    "sns.barplot(df.GENDER, df.REPEAT)\n",
    "plt.xlabel('Gender')\n",
    "plt.xticks([0,1],labels=['Male','Female'])\n",
    "plt.ylabel(\"Proportion of Repeat Offenders\")\n",
    "plt.show()"
   ]
  },
  {
   "cell_type": "markdown",
   "metadata": {},
   "source": [
    "Interestingly, gender seems to have almost zero effect on whether or not a customer will make more than one claim."
   ]
  },
  {
   "cell_type": "markdown",
   "metadata": {},
   "source": [
    "### Urbanicity\n",
    "If a customer lives in the city, are they more likely to be a repeat offender?"
   ]
  },
  {
   "cell_type": "code",
   "execution_count": 26,
   "metadata": {
    "scrolled": false
   },
   "outputs": [
    {
     "name": "stdout",
     "output_type": "stream",
     "text": [
      "How many Urban drivers made repeat claims?\n",
      "45.66%\n",
      "How many Rural drivers made repeat claims?\n",
      "12.16%\n"
     ]
    },
    {
     "data": {
      "image/png": "[encoded data removed]",
      "text/plain": [
       "<Figure size 720x432 with 1 Axes>"
      ]
     },
     "metadata": {
      "needs_background": "light"
     },
     "output_type": "display_data"
    }
   ],
   "source": [
    "print(\"How many Urban drivers made repeat claims?\")\n",
    "print(\"{:.2%}\".format(df[\"REPEAT\"][df[\"URBANICITY\"] == 'Urban'].value_counts(normalize = True)[1]))\n",
    "\n",
    "print(\"How many Rural drivers made repeat claims?\")\n",
    "print(\"{:.2%}\".format(df[\"REPEAT\"][df[\"URBANICITY\"] == 'Rural'].value_counts(normalize = True)[1]))\n",
    "figure(figsize=(10,6))\n",
    "sns.barplot(x='URBANICITY',y=\"REPEAT\", data=df)\n",
    "plt.ylabel(\"Proportion of Repeat Offenders\")\n",
    "plt.show()"
   ]
  },
  {
   "cell_type": "markdown",
   "metadata": {},
   "source": [
    "We can see that Urban drivers have a much higher probability of becoming repeat offenders than those who live in Rural areas. The plots above and below show that 45.66% of all Urban drivers have made repeat claims, and that Urban drivers make up a whopping 93.7% of all repeat claims!\n",
    "\n",
    "That is, if the client lives in the city, there's about a 45% chance that they've made more than one car insurance claim.\n",
    "\n",
    "Further, if they've made more than one car insurance claim, there's a 93.7% chance that they live in the city!"
   ]
  },
  {
   "cell_type": "markdown",
   "metadata": {},
   "source": [
    "### Demerit Points\n",
    "Two questions:\n",
    "- If a customer has one or more demerit points on their record, are they more likely to be a repeat offender?\n",
    "- Does the likelihood of being a repeat offender increase with the number of demerit points?"
   ]
  },
  {
   "cell_type": "code",
   "execution_count": 27,
   "metadata": {
    "scrolled": false
   },
   "outputs": [
    {
     "name": "stdout",
     "output_type": "stream",
     "text": [
      "How many drivers without demerits made repeat claims?\n",
      "22.03%\n",
      "How many drivers with demerits made repeat claims?\n",
      "52.87%\n"
     ]
    },
    {
     "data": {
      "image/png": "[encoded data removed]",
      "text/plain": [
       "<Figure size 720x432 with 1 Axes>"
      ]
     },
     "metadata": {
      "needs_background": "light"
     },
     "output_type": "display_data"
    }
   ],
   "source": [
    "# we need to create a column which represents clients with 0 demerit points, and those with 1 or more.\n",
    "df['DEMERITS'] = df.MVR_PTS.apply(lambda x: 'Zero' if x == 0 else 'One or more')\n",
    "\n",
    "print(\"How many drivers without demerits made repeat claims?\")\n",
    "print(\"{:.2%}\".format(df[\"REPEAT\"][df[\"DEMERITS\"] == 'Zero'].value_counts(normalize = True)[1]))\n",
    "\n",
    "print(\"How many drivers with demerits made repeat claims?\")\n",
    "print(\"{:.2%}\".format(df[\"REPEAT\"][df[\"DEMERITS\"] == 'One or more'].value_counts(normalize = True)[1]))\n",
    "figure(figsize=(10,6))\n",
    "sns.barplot(x='DEMERITS',y=\"REPEAT\", data=df)\n",
    "plt.xlabel('Number of demerits')\n",
    "plt.ylabel(\"Proportion of Repeat Offenders\")\n",
    "plt.show()"
   ]
  },
  {
   "cell_type": "markdown",
   "metadata": {},
   "source": [
    "Not surprisingly, if a driver has demerit points on their record, they're much more likely to have more than one insurance claim! Now, does the likelihood of repeat claims increase with the actual number of demerit points?"
   ]
  },
  {
   "cell_type": "code",
   "execution_count": 28,
   "metadata": {
    "scrolled": false
   },
   "outputs": [
    {
     "data": {
      "image/png": "[encoded data removed]",
      "text/plain": [
       "<Figure size 720x360 with 1 Axes>"
      ]
     },
     "metadata": {
      "needs_background": "light"
     },
     "output_type": "display_data"
    }
   ],
   "source": [
    "figure(figsize=(10,5))\n",
    "sns.lineplot(x=\"MVR_PTS\",y=\"REPEAT\",data=df)\n",
    "plt.xlabel(\"Number of Demerit Points\")\n",
    "plt.ylabel(\"Proportion of Repeat Offenders\")\n",
    "plt.show()"
   ]
  },
  {
   "cell_type": "markdown",
   "metadata": {},
   "source": [
    "A clear pattern can be seen in the plot above! As the number of demerits a driver has increases, so do the odds that they will make repeat insurance claims. In fact, for those with 9 demerit points or more, **100% of them** have made more than one claim in the past 5 years!"
   ]
  },
  {
   "cell_type": "markdown",
   "metadata": {},
   "source": [
    "### Age\n",
    "To observe whether one age group has an increased likelihood compared to another, I'll have to sort the customers into age groups:\n",
    "- 16-22 \n",
    "- 22-30\n",
    "- 30-40\n",
    "- 40-50\n",
    "- 50-60\n",
    "- 60+\n"
   ]
  },
  {
   "cell_type": "code",
   "execution_count": 29,
   "metadata": {
    "scrolled": false
   },
   "outputs": [
    {
     "data": {
      "image/png": "[encoded data removed]",
      "text/plain": [
       "<Figure size 864x432 with 1 Axes>"
      ]
     },
     "metadata": {
      "needs_background": "light"
     },
     "output_type": "display_data"
    }
   ],
   "source": [
    "# sort customers into age groups\n",
    "df['AGEGROUP'] = pd.cut(df[\"AGE\"], bins = [16, 22, 30, 40, 50, 60, np.inf], labels = ['16-22', '22-30', '30-40', '40-50', '50-60', '60+'])\n",
    "figure(figsize=(12,6))\n",
    "sns.barplot(x='AGEGROUP',y=\"REPEAT\", data=df)\n",
    "plt.xlabel(\"Age Group (years)\")\n",
    "plt.ylabel(\"Proportion of Repeat Offenders\")\n",
    "plt.show()"
   ]
  },
  {
   "cell_type": "markdown",
   "metadata": {},
   "source": [
    "Younger drivers, those in the age group of either 16-22 or 22-30, are at the highest risk of making repeat insurance claims."
   ]
  },
  {
   "cell_type": "markdown",
   "metadata": {},
   "source": [
    "### Income\n",
    "This step also requires some feature engineering: I'll sort each customer into an income bracket before visualizing the data."
   ]
  },
  {
   "cell_type": "code",
   "execution_count": 30,
   "metadata": {
    "scrolled": false
   },
   "outputs": [
    {
     "data": {
      "image/png": "[encoded data removed]",
      "text/plain": [
       "<Figure size 864x432 with 1 Axes>"
      ]
     },
     "metadata": {
      "needs_background": "light"
     },
     "output_type": "display_data"
    }
   ],
   "source": [
    "# sort customers into income groups\n",
    "df['INCOMEGROUP'] = pd.cut(df[\"INCOME\"], bins = [0, 20000, 40000, 60000, 80000, 100000, 125000, np.inf], labels = ['0-20k', '20-40k', '40-60k', '60-80k', '80-100k', '100-125k', '125k+'])\n",
    "\n",
    "figure(figsize=(12,6))\n",
    "sns.barplot(x='INCOMEGROUP',y=\"REPEAT\", data=df)\n",
    "plt.xlabel(\"Income Group ($)\")\n",
    "plt.ylabel(\"Proportion of Repeat Offenders\")\n",
    "plt.show()"
   ]
  },
  {
   "cell_type": "markdown",
   "metadata": {},
   "source": [
    "Income doesn't seem to have a huge effect on the likelihood of repeat offenses, other than a small dip after income surpasses $100,000."
   ]
  },
  {
   "cell_type": "markdown",
   "metadata": {},
   "source": [
    "### License Revoked?\n",
    "I would expect those drivers who've had their license revoked in the past seven years to drive more dangerously, and thus lead to an increase in repeat claims."
   ]
  },
  {
   "cell_type": "code",
   "execution_count": 31,
   "metadata": {
    "scrolled": false
   },
   "outputs": [
    {
     "name": "stdout",
     "output_type": "stream",
     "text": [
      "How many drivers who've had their license revoked made repeat claims?\n",
      "48.69%\n",
      "How many drivers who haven't had their license revoked made repeat claims?\n",
      "37.56%\n"
     ]
    },
    {
     "data": {
      "image/png": "[encoded data removed]",
      "text/plain": [
       "<Figure size 720x432 with 1 Axes>"
      ]
     },
     "metadata": {
      "needs_background": "light"
     },
     "output_type": "display_data"
    }
   ],
   "source": [
    "print(\"How many drivers who've had their license revoked made repeat claims?\")\n",
    "print(\"{:.2%}\".format(df[\"REPEAT\"][df[\"REVOKED\"] == 'Yes'].value_counts(normalize = True)[1]))\n",
    "\n",
    "print(\"How many drivers who haven't had their license revoked made repeat claims?\")\n",
    "print(\"{:.2%}\".format(df[\"REPEAT\"][df[\"REVOKED\"] == 'No'].value_counts(normalize = True)[1]))\n",
    "figure(figsize=(10,6))\n",
    "sns.barplot(x='REVOKED',y=\"REPEAT\", data=df)\n",
    "plt.xlabel('Has license been revoked in the past seven years?')\n",
    "plt.ylabel(\"Proportion of Repeat Offenders\")\n",
    "plt.show()"
   ]
  },
  {
   "cell_type": "markdown",
   "metadata": {},
   "source": [
    "It's true. Drivers who've had their license revoked recently have a greater chance of being repeat offenders."
   ]
  },
  {
   "cell_type": "markdown",
   "metadata": {},
   "source": [
    "### Was vehicle in a crash?\n",
    "CLAIM_FLAG tells us whether or not the car was in a crash for this particular insurance claim."
   ]
  },
  {
   "cell_type": "code",
   "execution_count": 32,
   "metadata": {
    "scrolled": false
   },
   "outputs": [
    {
     "name": "stdout",
     "output_type": "stream",
     "text": [
      "How many drivers whose car was in a crash made repeat claims?\n",
      "59.10%\n",
      "How many drivers whose car wasn't in a crash made repeat claims?\n",
      "31.59%\n"
     ]
    },
    {
     "data": {
      "image/png": "[encoded data removed]",
      "text/plain": [
       "<Figure size 720x432 with 1 Axes>"
      ]
     },
     "metadata": {
      "needs_background": "light"
     },
     "output_type": "display_data"
    }
   ],
   "source": [
    "print(\"How many drivers whose car was in a crash made repeat claims?\")\n",
    "print(\"{:.2%}\".format(df[\"REPEAT\"][df[\"CLAIM_FLAG\"] == 1].value_counts(normalize = True)[1]))\n",
    "\n",
    "print(\"How many drivers whose car wasn't in a crash made repeat claims?\")\n",
    "print(\"{:.2%}\".format(df[\"REPEAT\"][df[\"CLAIM_FLAG\"] == 0].value_counts(normalize = True)[1]))\n",
    "figure(figsize=(10,6))\n",
    "sns.barplot(x='CLAIM_FLAG',y=\"REPEAT\", data=df)\n",
    "plt.xlabel('Was the car in a crash?')\n",
    "plt.xticks([0,1],labels=['No','Yes'])\n",
    "plt.ylabel(\"Proportion of Repeat Offenders\")\n",
    "plt.show()"
   ]
  },
  {
   "cell_type": "markdown",
   "metadata": {},
   "source": [
    "Whether or not the car was in a crash for this particular insurance claim seems to have a large effect on whether or not the driver made repeat claims - 59% vs 32%!"
   ]
  },
  {
   "cell_type": "markdown",
   "metadata": {},
   "source": [
    "## Part 4: Machine Learning Models\n",
    "The features which have had the most effect on the likelihood of repeat insurance claims were discovered above. Those are:\n",
    "- Urbanicity (Boolean)\n",
    "- Number of Demerit Points\n",
    "- Age \n",
    "- Revoked License Status (Boolean)\n",
    "- Car Crash Status (Boolean)\n",
    "\n",
    "Our prediction target is the variable REPEAT."
   ]
  },
  {
   "cell_type": "code",
   "execution_count": 33,
   "metadata": {
    "scrolled": false
   },
   "outputs": [],
   "source": [
    "y = df.REPEAT"
   ]
  },
  {
   "cell_type": "code",
   "execution_count": 34,
   "metadata": {
    "scrolled": true
   },
   "outputs": [
    {
     "data": {
      "text/plain": [
       "0    6292\n",
       "1    4010\n",
       "Name: REPEAT, dtype: int64"
      ]
     },
     "execution_count": 34,
     "metadata": {},
     "output_type": "execute_result"
    }
   ],
   "source": [
    "y.value_counts()"
   ]
  },
  {
   "cell_type": "code",
   "execution_count": 35,
   "metadata": {},
   "outputs": [
    {
     "data": {
      "text/plain": [
       "No     9041\n",
       "Yes    1261\n",
       "Name: REVOKED, dtype: int64"
      ]
     },
     "execution_count": 35,
     "metadata": {},
     "output_type": "execute_result"
    }
   ],
   "source": [
    "df['REVOKED'].value_counts()"
   ]
  },
  {
   "cell_type": "code",
   "execution_count": 36,
   "metadata": {
    "scrolled": false
   },
   "outputs": [],
   "source": [
    "# convert feature columns to numerical variables\n",
    "df['URBANICITY'] = df.URBANICITY.apply(lambda x: 0 if x == 'Rural' else 1)\n",
    "df['REVOKED'] = df.REVOKED.apply(lambda x: 0 if x == 'No' else 1)"
   ]
  },
  {
   "cell_type": "code",
   "execution_count": 37,
   "metadata": {
    "scrolled": false
   },
   "outputs": [],
   "source": [
    "features = ['URBANICITY', 'MVR_PTS', 'AGE', 'REVOKED', 'CLAIM_FLAG']"
   ]
  },
  {
   "cell_type": "code",
   "execution_count": 38,
   "metadata": {
    "scrolled": false
   },
   "outputs": [],
   "source": [
    "X = df[features]"
   ]
  },
  {
   "cell_type": "code",
   "execution_count": 39,
   "metadata": {
    "scrolled": false
   },
   "outputs": [
    {
     "data": {
      "text/html": [
       "<div>\n",
       "<style scoped>\n",
       "    .dataframe tbody tr th:only-of-type {\n",
       "        vertical-align: middle;\n",
       "    }\n",
       "\n",
       "    .dataframe tbody tr th {\n",
       "        vertical-align: top;\n",
       "    }\n",
       "\n",
       "    .dataframe thead th {\n",
       "        text-align: right;\n",
       "    }\n",
       "</style>\n",
       "<table border=\"1\" class=\"dataframe\">\n",
       "  <thead>\n",
       "    <tr style=\"text-align: right;\">\n",
       "      <th></th>\n",
       "      <th>URBANICITY</th>\n",
       "      <th>MVR_PTS</th>\n",
       "      <th>AGE</th>\n",
       "      <th>REVOKED</th>\n",
       "      <th>CLAIM_FLAG</th>\n",
       "    </tr>\n",
       "  </thead>\n",
       "  <tbody>\n",
       "    <tr>\n",
       "      <th>0</th>\n",
       "      <td>1</td>\n",
       "      <td>3</td>\n",
       "      <td>60.0</td>\n",
       "      <td>0</td>\n",
       "      <td>0</td>\n",
       "    </tr>\n",
       "    <tr>\n",
       "      <th>1</th>\n",
       "      <td>1</td>\n",
       "      <td>0</td>\n",
       "      <td>43.0</td>\n",
       "      <td>0</td>\n",
       "      <td>0</td>\n",
       "    </tr>\n",
       "    <tr>\n",
       "      <th>2</th>\n",
       "      <td>1</td>\n",
       "      <td>2</td>\n",
       "      <td>48.0</td>\n",
       "      <td>0</td>\n",
       "      <td>0</td>\n",
       "    </tr>\n",
       "    <tr>\n",
       "      <th>3</th>\n",
       "      <td>1</td>\n",
       "      <td>3</td>\n",
       "      <td>35.0</td>\n",
       "      <td>0</td>\n",
       "      <td>0</td>\n",
       "    </tr>\n",
       "    <tr>\n",
       "      <th>4</th>\n",
       "      <td>1</td>\n",
       "      <td>0</td>\n",
       "      <td>51.0</td>\n",
       "      <td>0</td>\n",
       "      <td>0</td>\n",
       "    </tr>\n",
       "    <tr>\n",
       "      <th>...</th>\n",
       "      <td>...</td>\n",
       "      <td>...</td>\n",
       "      <td>...</td>\n",
       "      <td>...</td>\n",
       "      <td>...</td>\n",
       "    </tr>\n",
       "    <tr>\n",
       "      <th>10297</th>\n",
       "      <td>1</td>\n",
       "      <td>2</td>\n",
       "      <td>45.0</td>\n",
       "      <td>0</td>\n",
       "      <td>0</td>\n",
       "    </tr>\n",
       "    <tr>\n",
       "      <th>10298</th>\n",
       "      <td>1</td>\n",
       "      <td>0</td>\n",
       "      <td>46.0</td>\n",
       "      <td>0</td>\n",
       "      <td>0</td>\n",
       "    </tr>\n",
       "    <tr>\n",
       "      <th>10299</th>\n",
       "      <td>1</td>\n",
       "      <td>0</td>\n",
       "      <td>48.0</td>\n",
       "      <td>0</td>\n",
       "      <td>0</td>\n",
       "    </tr>\n",
       "    <tr>\n",
       "      <th>10300</th>\n",
       "      <td>1</td>\n",
       "      <td>0</td>\n",
       "      <td>50.0</td>\n",
       "      <td>0</td>\n",
       "      <td>0</td>\n",
       "    </tr>\n",
       "    <tr>\n",
       "      <th>10301</th>\n",
       "      <td>0</td>\n",
       "      <td>0</td>\n",
       "      <td>52.0</td>\n",
       "      <td>0</td>\n",
       "      <td>0</td>\n",
       "    </tr>\n",
       "  </tbody>\n",
       "</table>\n",
       "<p>10302 rows × 5 columns</p>\n",
       "</div>"
      ],
      "text/plain": [
       "       URBANICITY  MVR_PTS   AGE  REVOKED  CLAIM_FLAG\n",
       "0               1        3  60.0        0           0\n",
       "1               1        0  43.0        0           0\n",
       "2               1        2  48.0        0           0\n",
       "3               1        3  35.0        0           0\n",
       "4               1        0  51.0        0           0\n",
       "...           ...      ...   ...      ...         ...\n",
       "10297           1        2  45.0        0           0\n",
       "10298           1        0  46.0        0           0\n",
       "10299           1        0  48.0        0           0\n",
       "10300           1        0  50.0        0           0\n",
       "10301           0        0  52.0        0           0\n",
       "\n",
       "[10302 rows x 5 columns]"
      ]
     },
     "execution_count": 39,
     "metadata": {},
     "output_type": "execute_result"
    }
   ],
   "source": [
    "X"
   ]
  },
  {
   "cell_type": "code",
   "execution_count": 40,
   "metadata": {
    "scrolled": true
   },
   "outputs": [
    {
     "data": {
      "text/html": [
       "<div>\n",
       "<style scoped>\n",
       "    .dataframe tbody tr th:only-of-type {\n",
       "        vertical-align: middle;\n",
       "    }\n",
       "\n",
       "    .dataframe tbody tr th {\n",
       "        vertical-align: top;\n",
       "    }\n",
       "\n",
       "    .dataframe thead th {\n",
       "        text-align: right;\n",
       "    }\n",
       "</style>\n",
       "<table border=\"1\" class=\"dataframe\">\n",
       "  <thead>\n",
       "    <tr style=\"text-align: right;\">\n",
       "      <th></th>\n",
       "      <th>URBANICITY</th>\n",
       "      <th>MVR_PTS</th>\n",
       "      <th>AGE</th>\n",
       "      <th>REVOKED</th>\n",
       "      <th>CLAIM_FLAG</th>\n",
       "    </tr>\n",
       "  </thead>\n",
       "  <tbody>\n",
       "    <tr>\n",
       "      <th>count</th>\n",
       "      <td>10302.000000</td>\n",
       "      <td>10302.000000</td>\n",
       "      <td>10302.000000</td>\n",
       "      <td>10302.000000</td>\n",
       "      <td>10302.000000</td>\n",
       "    </tr>\n",
       "    <tr>\n",
       "      <th>mean</th>\n",
       "      <td>0.798874</td>\n",
       "      <td>1.710153</td>\n",
       "      <td>44.837397</td>\n",
       "      <td>0.122403</td>\n",
       "      <td>0.266550</td>\n",
       "    </tr>\n",
       "    <tr>\n",
       "      <th>std</th>\n",
       "      <td>0.400861</td>\n",
       "      <td>2.159015</td>\n",
       "      <td>8.603520</td>\n",
       "      <td>0.327767</td>\n",
       "      <td>0.442177</td>\n",
       "    </tr>\n",
       "    <tr>\n",
       "      <th>min</th>\n",
       "      <td>0.000000</td>\n",
       "      <td>0.000000</td>\n",
       "      <td>16.000000</td>\n",
       "      <td>0.000000</td>\n",
       "      <td>0.000000</td>\n",
       "    </tr>\n",
       "    <tr>\n",
       "      <th>25%</th>\n",
       "      <td>1.000000</td>\n",
       "      <td>0.000000</td>\n",
       "      <td>39.000000</td>\n",
       "      <td>0.000000</td>\n",
       "      <td>0.000000</td>\n",
       "    </tr>\n",
       "    <tr>\n",
       "      <th>50%</th>\n",
       "      <td>1.000000</td>\n",
       "      <td>1.000000</td>\n",
       "      <td>45.000000</td>\n",
       "      <td>0.000000</td>\n",
       "      <td>0.000000</td>\n",
       "    </tr>\n",
       "    <tr>\n",
       "      <th>75%</th>\n",
       "      <td>1.000000</td>\n",
       "      <td>3.000000</td>\n",
       "      <td>51.000000</td>\n",
       "      <td>0.000000</td>\n",
       "      <td>1.000000</td>\n",
       "    </tr>\n",
       "    <tr>\n",
       "      <th>max</th>\n",
       "      <td>1.000000</td>\n",
       "      <td>13.000000</td>\n",
       "      <td>81.000000</td>\n",
       "      <td>1.000000</td>\n",
       "      <td>1.000000</td>\n",
       "    </tr>\n",
       "  </tbody>\n",
       "</table>\n",
       "</div>"
      ],
      "text/plain": [
       "         URBANICITY       MVR_PTS           AGE       REVOKED    CLAIM_FLAG\n",
       "count  10302.000000  10302.000000  10302.000000  10302.000000  10302.000000\n",
       "mean       0.798874      1.710153     44.837397      0.122403      0.266550\n",
       "std        0.400861      2.159015      8.603520      0.327767      0.442177\n",
       "min        0.000000      0.000000     16.000000      0.000000      0.000000\n",
       "25%        1.000000      0.000000     39.000000      0.000000      0.000000\n",
       "50%        1.000000      1.000000     45.000000      0.000000      0.000000\n",
       "75%        1.000000      3.000000     51.000000      0.000000      1.000000\n",
       "max        1.000000     13.000000     81.000000      1.000000      1.000000"
      ]
     },
     "execution_count": 40,
     "metadata": {},
     "output_type": "execute_result"
    }
   ],
   "source": [
    "X.describe()"
   ]
  },
  {
   "cell_type": "code",
   "execution_count": 41,
   "metadata": {
    "scrolled": false
   },
   "outputs": [],
   "source": [
    "from sklearn.model_selection import train_test_split\n",
    "X_train, X_test, y_train, y_test = train_test_split(X, y, test_size = 0.20, random_state = 0, stratify=y)"
   ]
  },
  {
   "cell_type": "markdown",
   "metadata": {},
   "source": [
    "Scaling feature variables:"
   ]
  },
  {
   "cell_type": "code",
   "execution_count": 42,
   "metadata": {
    "scrolled": false
   },
   "outputs": [],
   "source": [
    "from sklearn.preprocessing import StandardScaler"
   ]
  },
  {
   "cell_type": "code",
   "execution_count": 43,
   "metadata": {
    "scrolled": false
   },
   "outputs": [],
   "source": [
    "scaler  = StandardScaler()\n",
    "X_train = scaler.fit_transform(X_train)\n",
    "X_test  = scaler.transform(X_test)"
   ]
  },
  {
   "cell_type": "markdown",
   "metadata": {},
   "source": [
    "### KNN"
   ]
  },
  {
   "cell_type": "code",
   "execution_count": 44,
   "metadata": {
    "scrolled": false
   },
   "outputs": [],
   "source": [
    "import sklearn.metrics as skm"
   ]
  },
  {
   "cell_type": "code",
   "execution_count": 45,
   "metadata": {
    "scrolled": false
   },
   "outputs": [],
   "source": [
    "from sklearn.neighbors import KNeighborsClassifier"
   ]
  },
  {
   "cell_type": "code",
   "execution_count": 46,
   "metadata": {
    "scrolled": false
   },
   "outputs": [
    {
     "data": {
      "text/plain": [
       "KNeighborsClassifier(algorithm='auto', leaf_size=30, metric='minkowski',\n",
       "                     metric_params=None, n_jobs=None, n_neighbors=5, p=2,\n",
       "                     weights='uniform')"
      ]
     },
     "execution_count": 46,
     "metadata": {},
     "output_type": "execute_result"
    }
   ],
   "source": [
    "knn = KNeighborsClassifier()\n",
    "\n",
    "knn.fit(X_train, y_train)"
   ]
  },
  {
   "cell_type": "code",
   "execution_count": 47,
   "metadata": {
    "scrolled": false
   },
   "outputs": [],
   "source": [
    "preds = knn.predict(X_test)"
   ]
  },
  {
   "cell_type": "code",
   "execution_count": 48,
   "metadata": {
    "scrolled": false
   },
   "outputs": [
    {
     "name": "stdout",
     "output_type": "stream",
     "text": [
      "First draft KNN results:\n",
      "Accuracy:  70.69%\n",
      "Precision: 70.33%\n",
      "Recall:    70.69%\n",
      "F1-Score:  70.44%\n"
     ]
    }
   ],
   "source": [
    "print(\"First draft KNN results:\")\n",
    "print(\"Accuracy:  \" + str(round(skm.accuracy_score(y_true=y_test,y_pred=preds) * 100, 2)) + \"%\")\n",
    "print(\"Precision: \" + str(round(skm.precision_score(y_true=y_test,y_pred=preds,average='weighted') * 100, 2)) + \"%\")\n",
    "print(\"Recall:    \" + str(round(skm.recall_score(y_true=y_test,y_pred=preds,average='weighted') * 100, 2)) + \"%\")\n",
    "print(\"F1-Score:  \" + str(round(skm.f1_score(y_true=y_test,y_pred=preds,average='weighted') * 100, 2)) + \"%\")"
   ]
  },
  {
   "cell_type": "markdown",
   "metadata": {},
   "source": [
    "#### Tuning KNN"
   ]
  },
  {
   "cell_type": "code",
   "execution_count": 49,
   "metadata": {
    "scrolled": false
   },
   "outputs": [
    {
     "name": "stdout",
     "output_type": "stream",
     "text": [
      "Fitting 5 folds for each of 24 candidates, totalling 120 fits\n"
     ]
    },
    {
     "name": "stderr",
     "output_type": "stream",
     "text": [
      "[Parallel(n_jobs=1)]: Using backend SequentialBackend with 1 concurrent workers.\n",
      "[Parallel(n_jobs=1)]: Done 120 out of 120 | elapsed:    7.1s finished\n"
     ]
    }
   ],
   "source": [
    "from sklearn.model_selection import GridSearchCV\n",
    "\n",
    "params = {\n",
    "    'n_neighbors': [31,35,41,45,51,55],\n",
    "    'weights': ['uniform', 'distance'],\n",
    "    'p': [1,2]\n",
    "}\n",
    "\n",
    "grid = GridSearchCV(KNeighborsClassifier(),\n",
    "                   params,\n",
    "                   verbose=1)\n",
    "\n",
    "grid_results = grid.fit(X_train, y_train)"
   ]
  },
  {
   "cell_type": "code",
   "execution_count": 50,
   "metadata": {
    "scrolled": false
   },
   "outputs": [],
   "source": [
    "knn = grid_results.best_estimator_"
   ]
  },
  {
   "cell_type": "code",
   "execution_count": 51,
   "metadata": {
    "scrolled": false
   },
   "outputs": [],
   "source": [
    "preds = knn.predict(X_test)"
   ]
  },
  {
   "cell_type": "code",
   "execution_count": 52,
   "metadata": {
    "scrolled": true
   },
   "outputs": [
    {
     "name": "stdout",
     "output_type": "stream",
     "text": [
      "Tuned KNN results:\n",
      "Accuracy:  74.09%\n",
      "Precision: 73.78%\n",
      "Recall:    74.09%\n",
      "F1-Score:  73.29%\n"
     ]
    }
   ],
   "source": [
    "print(\"Tuned KNN results:\")\n",
    "print(\"Accuracy:  \" + str(round(skm.accuracy_score(y_true=y_test,y_pred=preds) * 100, 2)) + \"%\")\n",
    "print(\"Precision: \" + str(round(skm.precision_score(y_true=y_test,y_pred=preds,average='weighted') * 100, 2)) + \"%\")\n",
    "print(\"Recall:    \" + str(round(skm.recall_score(y_true=y_test,y_pred=preds,average='weighted') * 100, 2)) + \"%\")\n",
    "print(\"F1-Score:  \" + str(round(skm.f1_score(y_true=y_test,y_pred=preds,average='weighted') * 100, 2)) + \"%\")"
   ]
  },
  {
   "cell_type": "code",
   "execution_count": 53,
   "metadata": {
    "scrolled": false
   },
   "outputs": [],
   "source": [
    "knn_cfmat = skm.confusion_matrix(\n",
    "    y_true=y_test,\n",
    "    y_pred=preds)"
   ]
  },
  {
   "cell_type": "code",
   "execution_count": 54,
   "metadata": {
    "scrolled": true
   },
   "outputs": [
    {
     "data": {
      "text/plain": [
       "Text(0.5, 1, 'KNN Confusion Matrix')"
      ]
     },
     "execution_count": 54,
     "metadata": {},
     "output_type": "execute_result"
    },
    {
     "data": {
      "image/png": "[encoded data removed]",
      "text/plain": [
       "<Figure size 504x360 with 2 Axes>"
      ]
     },
     "metadata": {
      "needs_background": "light"
     },
     "output_type": "display_data"
    }
   ],
   "source": [
    "fig, ax = plt.subplots(figsize=(7,5))\n",
    "sns.heatmap(knn_cfmat, \n",
    "            xticklabels=['No', 'Yes'],\n",
    "            yticklabels=['No', 'Yes'],\n",
    "            annot=True,\n",
    "            fmt='g')\n",
    "plt.xlabel('predicted label')\n",
    "plt.ylabel('true label')\n",
    "plt.title('KNN Confusion Matrix')"
   ]
  },
  {
   "cell_type": "markdown",
   "metadata": {},
   "source": [
    "### Naive Bayes"
   ]
  },
  {
   "cell_type": "code",
   "execution_count": 55,
   "metadata": {
    "scrolled": false
   },
   "outputs": [],
   "source": [
    "from sklearn.naive_bayes import GaussianNB"
   ]
  },
  {
   "cell_type": "code",
   "execution_count": 56,
   "metadata": {
    "scrolled": true
   },
   "outputs": [],
   "source": [
    "gnb = GaussianNB(var_smoothing=0.1)"
   ]
  },
  {
   "cell_type": "code",
   "execution_count": 57,
   "metadata": {
    "scrolled": true
   },
   "outputs": [
    {
     "data": {
      "text/plain": [
       "GaussianNB(priors=None, var_smoothing=0.1)"
      ]
     },
     "execution_count": 57,
     "metadata": {},
     "output_type": "execute_result"
    }
   ],
   "source": [
    "gnb.fit(X_train,y_train)"
   ]
  },
  {
   "cell_type": "code",
   "execution_count": 58,
   "metadata": {
    "scrolled": true
   },
   "outputs": [],
   "source": [
    "preds = gnb.predict(X_test)"
   ]
  },
  {
   "cell_type": "code",
   "execution_count": 59,
   "metadata": {
    "scrolled": true
   },
   "outputs": [
    {
     "name": "stdout",
     "output_type": "stream",
     "text": [
      "GaussianNB results:\n",
      "Accuracy:  73.31%\n",
      "Precision: 73.43%\n",
      "Recall:    73.31%\n",
      "F1-Score:  73.37%\n"
     ]
    }
   ],
   "source": [
    "print(\"GaussianNB results:\")\n",
    "print(\"Accuracy:  \" + str(round(skm.accuracy_score(y_true=y_test,y_pred=preds) * 100, 2)) + \"%\")\n",
    "print(\"Precision: \" + str(round(skm.precision_score(y_true=y_test,y_pred=preds,average='weighted') * 100, 2)) + \"%\")\n",
    "print(\"Recall:    \" + str(round(skm.recall_score(y_true=y_test,y_pred=preds,average='weighted') * 100, 2)) + \"%\")\n",
    "print(\"F1-Score:  \" + str(round(skm.f1_score(y_true=y_test,y_pred=preds,average='weighted') * 100, 2)) + \"%\")"
   ]
  },
  {
   "cell_type": "code",
   "execution_count": 60,
   "metadata": {
    "scrolled": true
   },
   "outputs": [],
   "source": [
    "gnb_cfmat = skm.confusion_matrix(\n",
    "    y_true=y_test,\n",
    "    y_pred=preds)"
   ]
  },
  {
   "cell_type": "code",
   "execution_count": 61,
   "metadata": {
    "scrolled": false
   },
   "outputs": [
    {
     "data": {
      "text/plain": [
       "Text(0.5, 1, 'GNB Confusion Matrix')"
      ]
     },
     "execution_count": 61,
     "metadata": {},
     "output_type": "execute_result"
    },
    {
     "data": {
      "image/png": "[encoded data removed]",
      "text/plain": [
       "<Figure size 504x360 with 2 Axes>"
      ]
     },
     "metadata": {
      "needs_background": "light"
     },
     "output_type": "display_data"
    }
   ],
   "source": [
    "fig, ax = plt.subplots(figsize=(7,5))\n",
    "sns.heatmap(gnb_cfmat, \n",
    "            xticklabels=['No', 'Yes'],\n",
    "            yticklabels=['No', 'Yes'],\n",
    "            annot=True,\n",
    "            fmt='g')\n",
    "plt.xlabel('predicted label')\n",
    "plt.ylabel('true label')\n",
    "plt.title('GNB Confusion Matrix')"
   ]
  },
  {
   "cell_type": "markdown",
   "metadata": {},
   "source": [
    "### Logistic Regression"
   ]
  },
  {
   "cell_type": "code",
   "execution_count": 62,
   "metadata": {
    "scrolled": true
   },
   "outputs": [],
   "source": [
    "from sklearn.linear_model import LogisticRegression"
   ]
  },
  {
   "cell_type": "code",
   "execution_count": 63,
   "metadata": {
    "scrolled": true
   },
   "outputs": [],
   "source": [
    "lr = LogisticRegression(C=0.01, solver='newton-cg')"
   ]
  },
  {
   "cell_type": "code",
   "execution_count": 64,
   "metadata": {
    "scrolled": true
   },
   "outputs": [
    {
     "data": {
      "text/plain": [
       "LogisticRegression(C=0.01, class_weight=None, dual=False, fit_intercept=True,\n",
       "                   intercept_scaling=1, l1_ratio=None, max_iter=100,\n",
       "                   multi_class='auto', n_jobs=None, penalty='l2',\n",
       "                   random_state=None, solver='newton-cg', tol=0.0001, verbose=0,\n",
       "                   warm_start=False)"
      ]
     },
     "execution_count": 64,
     "metadata": {},
     "output_type": "execute_result"
    }
   ],
   "source": [
    "lr.fit(X_train, y_train)"
   ]
  },
  {
   "cell_type": "code",
   "execution_count": 65,
   "metadata": {
    "scrolled": true
   },
   "outputs": [],
   "source": [
    "preds = lr.predict(X_test)"
   ]
  },
  {
   "cell_type": "code",
   "execution_count": 66,
   "metadata": {
    "scrolled": true
   },
   "outputs": [
    {
     "name": "stdout",
     "output_type": "stream",
     "text": [
      "Logistic Regression results:\n",
      "Accuracy:  75.21%\n",
      "Precision: 75.02%\n",
      "Recall:    75.21%\n",
      "F1-Score:  74.4%\n"
     ]
    }
   ],
   "source": [
    "print(\"Logistic Regression results:\")\n",
    "print(\"Accuracy:  \" + str(round(skm.accuracy_score(y_true=y_test,y_pred=preds) * 100, 2)) + \"%\")\n",
    "print(\"Precision: \" + str(round(skm.precision_score(y_true=y_test,y_pred=preds,average='weighted') * 100, 2)) + \"%\")\n",
    "print(\"Recall:    \" + str(round(skm.recall_score(y_true=y_test,y_pred=preds,average='weighted') * 100, 2)) + \"%\")\n",
    "print(\"F1-Score:  \" + str(round(skm.f1_score(y_true=y_test,y_pred=preds,average='weighted') * 100, 2)) + \"%\")"
   ]
  },
  {
   "cell_type": "code",
   "execution_count": 67,
   "metadata": {
    "scrolled": true
   },
   "outputs": [],
   "source": [
    "lr_cfmat = skm.confusion_matrix(\n",
    "    y_true=y_test,\n",
    "    y_pred=preds)"
   ]
  },
  {
   "cell_type": "code",
   "execution_count": 68,
   "metadata": {
    "scrolled": false
   },
   "outputs": [
    {
     "data": {
      "text/plain": [
       "Text(0.5, 1, 'LR Confusion Matrix')"
      ]
     },
     "execution_count": 68,
     "metadata": {},
     "output_type": "execute_result"
    },
    {
     "data": {
      "image/png": "[encoded data removed]",
      "text/plain": [
       "<Figure size 504x360 with 2 Axes>"
      ]
     },
     "metadata": {
      "needs_background": "light"
     },
     "output_type": "display_data"
    }
   ],
   "source": [
    "fig, ax = plt.subplots(figsize=(7,5))\n",
    "sns.heatmap(lr_cfmat, \n",
    "            xticklabels=['No', 'Yes'],\n",
    "            yticklabels=['No', 'Yes'],\n",
    "            annot=True,\n",
    "            fmt='g')\n",
    "plt.xlabel('predicted label')\n",
    "plt.ylabel('true label')\n",
    "plt.title('LR Confusion Matrix')"
   ]
  },
  {
   "cell_type": "markdown",
   "metadata": {},
   "source": [
    "### SVM"
   ]
  },
  {
   "cell_type": "code",
   "execution_count": 69,
   "metadata": {
    "scrolled": false
   },
   "outputs": [],
   "source": [
    "from sklearn.svm import SVC"
   ]
  },
  {
   "cell_type": "code",
   "execution_count": 70,
   "metadata": {
    "scrolled": false
   },
   "outputs": [],
   "source": [
    "svc = SVC(C=0.1, \n",
    "          kernel='rbf', \n",
    "          gamma='auto', \n",
    "         )"
   ]
  },
  {
   "cell_type": "code",
   "execution_count": 71,
   "metadata": {
    "scrolled": false
   },
   "outputs": [
    {
     "data": {
      "text/plain": [
       "SVC(C=0.1, break_ties=False, cache_size=200, class_weight=None, coef0=0.0,\n",
       "    decision_function_shape='ovr', degree=3, gamma='auto', kernel='rbf',\n",
       "    max_iter=-1, probability=False, random_state=None, shrinking=True,\n",
       "    tol=0.001, verbose=False)"
      ]
     },
     "execution_count": 71,
     "metadata": {},
     "output_type": "execute_result"
    }
   ],
   "source": [
    "svc.fit(X_train, y_train)"
   ]
  },
  {
   "cell_type": "code",
   "execution_count": 94,
   "metadata": {
    "scrolled": false
   },
   "outputs": [],
   "source": [
    "preds = svc.predict(X_test)"
   ]
  },
  {
   "cell_type": "code",
   "execution_count": 95,
   "metadata": {
    "scrolled": false
   },
   "outputs": [
    {
     "name": "stdout",
     "output_type": "stream",
     "text": [
      "SVM results:\n",
      "Accuracy:  75.25%\n",
      "Precision: 75.26%\n",
      "Recall:    75.25%\n",
      "F1-Score:  74.26%\n"
     ]
    }
   ],
   "source": [
    "print(\"SVM results:\")\n",
    "print(\"Accuracy:  \" + str(round(skm.accuracy_score(y_true=y_test,y_pred=preds) * 100, 2)) + \"%\")\n",
    "print(\"Precision: \" + str(round(skm.precision_score(y_true=y_test,y_pred=preds,average='weighted') * 100, 2)) + \"%\")\n",
    "print(\"Recall:    \" + str(round(skm.recall_score(y_true=y_test,y_pred=preds,average='weighted') * 100, 2)) + \"%\")\n",
    "print(\"F1-Score:  \" + str(round(skm.f1_score(y_true=y_test,y_pred=preds,average='weighted') * 100, 2)) + \"%\")"
   ]
  },
  {
   "cell_type": "code",
   "execution_count": 96,
   "metadata": {
    "scrolled": false
   },
   "outputs": [],
   "source": [
    "svc_cfmat = skm.confusion_matrix(\n",
    "    y_true=y_test,\n",
    "    y_pred=preds)"
   ]
  },
  {
   "cell_type": "code",
   "execution_count": 97,
   "metadata": {
    "scrolled": false
   },
   "outputs": [
    {
     "data": {
      "text/plain": [
       "Text(0.5, 1, 'SVM Confusion Matrix')"
      ]
     },
     "execution_count": 97,
     "metadata": {},
     "output_type": "execute_result"
    },
    {
     "data": {
      "image/png": "[encoded data removed]",
      "text/plain": [
       "<Figure size 504x360 with 2 Axes>"
      ]
     },
     "metadata": {
      "needs_background": "light"
     },
     "output_type": "display_data"
    }
   ],
   "source": [
    "fig, ax = plt.subplots(figsize=(7,5))\n",
    "sns.heatmap(svc_cfmat, \n",
    "            xticklabels=['No', 'Yes'],\n",
    "            yticklabels=['No', 'Yes'],\n",
    "            annot=True,\n",
    "            fmt='g')\n",
    "plt.xlabel('predicted label')\n",
    "plt.ylabel('true label')\n",
    "plt.title('SVM Confusion Matrix')"
   ]
  },
  {
   "cell_type": "markdown",
   "metadata": {},
   "source": [
    "### Random Forest"
   ]
  },
  {
   "cell_type": "code",
   "execution_count": 76,
   "metadata": {
    "scrolled": false
   },
   "outputs": [],
   "source": [
    "from sklearn.ensemble import RandomForestClassifier"
   ]
  },
  {
   "cell_type": "code",
   "execution_count": 77,
   "metadata": {},
   "outputs": [],
   "source": [
    "rfc = RandomForestClassifier(n_estimators=100)"
   ]
  },
  {
   "cell_type": "code",
   "execution_count": 99,
   "metadata": {},
   "outputs": [
    {
     "data": {
      "text/plain": [
       "RandomForestClassifier(bootstrap=True, ccp_alpha=0.0, class_weight=None,\n",
       "                       criterion='gini', max_depth=None, max_features='auto',\n",
       "                       max_leaf_nodes=None, max_samples=None,\n",
       "                       min_impurity_decrease=0.0, min_impurity_split=None,\n",
       "                       min_samples_leaf=1, min_samples_split=2,\n",
       "                       min_weight_fraction_leaf=0.0, n_estimators=100,\n",
       "                       n_jobs=None, oob_score=False, random_state=None,\n",
       "                       verbose=0, warm_start=False)"
      ]
     },
     "execution_count": 99,
     "metadata": {},
     "output_type": "execute_result"
    }
   ],
   "source": [
    "rfc.fit(X_train, y_train)"
   ]
  },
  {
   "cell_type": "code",
   "execution_count": 100,
   "metadata": {},
   "outputs": [],
   "source": [
    "preds = rfc.predict(X_test)"
   ]
  },
  {
   "cell_type": "code",
   "execution_count": 101,
   "metadata": {},
   "outputs": [
    {
     "name": "stdout",
     "output_type": "stream",
     "text": [
      "RFC results:\n",
      "Accuracy:  72.59%\n",
      "Precision: 72.12%\n",
      "Recall:    72.59%\n",
      "F1-Score:  71.87%\n"
     ]
    }
   ],
   "source": [
    "print(\"RFC results:\")\n",
    "print(\"Accuracy:  \" + str(round(skm.accuracy_score(y_true=y_test,y_pred=preds) * 100, 2)) + \"%\")\n",
    "print(\"Precision: \" + str(round(skm.precision_score(y_true=y_test,y_pred=preds,average='weighted') * 100, 2)) + \"%\")\n",
    "print(\"Recall:    \" + str(round(skm.recall_score(y_true=y_test,y_pred=preds,average='weighted') * 100, 2)) + \"%\")\n",
    "print(\"F1-Score:  \" + str(round(skm.f1_score(y_true=y_test,y_pred=preds,average='weighted') * 100, 2)) + \"%\")"
   ]
  },
  {
   "cell_type": "code",
   "execution_count": 81,
   "metadata": {},
   "outputs": [],
   "source": [
    "rfc_cfmat = skm.confusion_matrix(\n",
    "    y_true=y_test,\n",
    "    y_pred=preds)"
   ]
  },
  {
   "cell_type": "code",
   "execution_count": 102,
   "metadata": {},
   "outputs": [
    {
     "data": {
      "text/plain": [
       "Text(0.5, 1, 'RFC Confusion Matrix')"
      ]
     },
     "execution_count": 102,
     "metadata": {},
     "output_type": "execute_result"
    },
    {
     "data": {
      "image/png": "[encoded data removed]",
      "text/plain": [
       "<Figure size 504x360 with 2 Axes>"
      ]
     },
     "metadata": {
      "needs_background": "light"
     },
     "output_type": "display_data"
    }
   ],
   "source": [
    "fig, ax = plt.subplots(figsize=(7,5))\n",
    "sns.heatmap(rfc_cfmat, \n",
    "            xticklabels=['No', 'Yes'],\n",
    "            yticklabels=['No', 'Yes'],\n",
    "            annot=True,\n",
    "            fmt='g')\n",
    "plt.xlabel('predicted label')\n",
    "plt.ylabel('true label')\n",
    "plt.title('RFC Confusion Matrix')"
   ]
  },
  {
   "cell_type": "markdown",
   "metadata": {},
   "source": [
    "#### Tuning RFC"
   ]
  },
  {
   "cell_type": "code",
   "execution_count": 83,
   "metadata": {
    "scrolled": false
   },
   "outputs": [],
   "source": [
    "from sklearn.model_selection import RandomizedSearchCV"
   ]
  },
  {
   "cell_type": "code",
   "execution_count": 84,
   "metadata": {
    "scrolled": false
   },
   "outputs": [],
   "source": [
    "n_estimators = [int(x) for x in np.linspace(start=100,stop=2000,num=10)]\n",
    "max_features = ['auto','sqrt']\n",
    "max_depth = [int(x) for x in np.linspace(10,110,num=11)]"
   ]
  },
  {
   "cell_type": "code",
   "execution_count": 85,
   "metadata": {},
   "outputs": [],
   "source": [
    "random_grid = {'n_estimators': n_estimators,\n",
    "               'max_features': max_features,\n",
    "               'max_depth': max_depth}"
   ]
  },
  {
   "cell_type": "code",
   "execution_count": 86,
   "metadata": {},
   "outputs": [],
   "source": [
    "rfc = RandomForestClassifier()"
   ]
  },
  {
   "cell_type": "code",
   "execution_count": 87,
   "metadata": {},
   "outputs": [],
   "source": [
    "rf_random = RandomizedSearchCV(rfc,\n",
    "                               random_grid,\n",
    "                               n_iter = 100,\n",
    "                               cv = 3,\n",
    "                               verbose = 2,\n",
    "                               n_jobs = -1)"
   ]
  },
  {
   "cell_type": "code",
   "execution_count": 88,
   "metadata": {},
   "outputs": [
    {
     "name": "stdout",
     "output_type": "stream",
     "text": [
      "Fitting 3 folds for each of 100 candidates, totalling 300 fits\n"
     ]
    },
    {
     "name": "stderr",
     "output_type": "stream",
     "text": [
      "[Parallel(n_jobs=-1)]: Using backend LokyBackend with 6 concurrent workers.\n",
      "[Parallel(n_jobs=-1)]: Done  29 tasks      | elapsed:   25.7s\n",
      "[Parallel(n_jobs=-1)]: Done 150 tasks      | elapsed:  1.7min\n",
      "[Parallel(n_jobs=-1)]: Done 300 out of 300 | elapsed:  3.5min finished\n"
     ]
    },
    {
     "data": {
      "text/plain": [
       "RandomizedSearchCV(cv=3, error_score=nan,\n",
       "                   estimator=RandomForestClassifier(bootstrap=True,\n",
       "                                                    ccp_alpha=0.0,\n",
       "                                                    class_weight=None,\n",
       "                                                    criterion='gini',\n",
       "                                                    max_depth=None,\n",
       "                                                    max_features='auto',\n",
       "                                                    max_leaf_nodes=None,\n",
       "                                                    max_samples=None,\n",
       "                                                    min_impurity_decrease=0.0,\n",
       "                                                    min_impurity_split=None,\n",
       "                                                    min_samples_leaf=1,\n",
       "                                                    min_samples_split=2,\n",
       "                                                    min_weight_fraction_leaf=0.0,\n",
       "                                                    n_estimators=100,\n",
       "                                                    n_jobs...\n",
       "                                                    oob_score=False,\n",
       "                                                    random_state=None,\n",
       "                                                    verbose=0,\n",
       "                                                    warm_start=False),\n",
       "                   iid='deprecated', n_iter=100, n_jobs=-1,\n",
       "                   param_distributions={'max_depth': [10, 20, 30, 40, 50, 60,\n",
       "                                                      70, 80, 90, 100, 110],\n",
       "                                        'max_features': ['auto', 'sqrt'],\n",
       "                                        'n_estimators': [100, 311, 522, 733,\n",
       "                                                         944, 1155, 1366, 1577,\n",
       "                                                         1788, 2000]},\n",
       "                   pre_dispatch='2*n_jobs', random_state=None, refit=True,\n",
       "                   return_train_score=False, scoring=None, verbose=2)"
      ]
     },
     "execution_count": 88,
     "metadata": {},
     "output_type": "execute_result"
    }
   ],
   "source": [
    "rf_random.fit(X_train, y_train)"
   ]
  },
  {
   "cell_type": "code",
   "execution_count": 89,
   "metadata": {},
   "outputs": [
    {
     "data": {
      "text/plain": [
       "{'n_estimators': 100, 'max_features': 'auto', 'max_depth': 10}"
      ]
     },
     "execution_count": 89,
     "metadata": {},
     "output_type": "execute_result"
    }
   ],
   "source": [
    "rf_random.best_params_"
   ]
  },
  {
   "cell_type": "code",
   "execution_count": 90,
   "metadata": {},
   "outputs": [],
   "source": [
    "best_rfc = rf_random.best_estimator_"
   ]
  },
  {
   "cell_type": "code",
   "execution_count": 91,
   "metadata": {},
   "outputs": [],
   "source": [
    "preds = best_rfc.predict(X_test)"
   ]
  },
  {
   "cell_type": "code",
   "execution_count": 92,
   "metadata": {},
   "outputs": [
    {
     "name": "stdout",
     "output_type": "stream",
     "text": [
      "RFC results:\n",
      "Accuracy:  74.72%\n",
      "Precision: 74.49%\n",
      "Recall:    74.72%\n",
      "F1-Score:  73.92%\n"
     ]
    }
   ],
   "source": [
    "print(\"RFC results:\")\n",
    "print(\"Accuracy:  \" + str(round(skm.accuracy_score(y_true=y_test,y_pred=preds) * 100, 2)) + \"%\")\n",
    "print(\"Precision: \" + str(round(skm.precision_score(y_true=y_test,y_pred=preds,average='weighted') * 100, 2)) + \"%\")\n",
    "print(\"Recall:    \" + str(round(skm.recall_score(y_true=y_test,y_pred=preds,average='weighted') * 100, 2)) + \"%\")\n",
    "print(\"F1-Score:  \" + str(round(skm.f1_score(y_true=y_test,y_pred=preds,average='weighted') * 100, 2)) + \"%\")"
   ]
  },
  {
   "cell_type": "markdown",
   "metadata": {},
   "source": [
    "#### The highest accuracy score we achieved was 75.25%, using Support Vector Machines.\n",
    "Can we improve the model any further?"
   ]
  },
  {
   "cell_type": "code",
   "execution_count": 93,
   "metadata": {},
   "outputs": [
    {
     "data": {
      "text/plain": [
       "SVC(C=0.1, break_ties=False, cache_size=200, class_weight=None, coef0=0.0,\n",
       "    decision_function_shape='ovr', degree=3, gamma='auto', kernel='rbf',\n",
       "    max_iter=-1, probability=False, random_state=None, shrinking=True,\n",
       "    tol=0.001, verbose=False)"
      ]
     },
     "execution_count": 93,
     "metadata": {},
     "output_type": "execute_result"
    }
   ],
   "source": [
    "svc"
   ]
  },
  {
   "cell_type": "markdown",
   "metadata": {},
   "source": [
    "### Feature Importance"
   ]
  },
  {
   "cell_type": "code",
   "execution_count": 110,
   "metadata": {},
   "outputs": [
    {
     "data": {
      "text/html": [
       "<div>\n",
       "<style scoped>\n",
       "    .dataframe tbody tr th:only-of-type {\n",
       "        vertical-align: middle;\n",
       "    }\n",
       "\n",
       "    .dataframe tbody tr th {\n",
       "        vertical-align: top;\n",
       "    }\n",
       "\n",
       "    .dataframe thead th {\n",
       "        text-align: right;\n",
       "    }\n",
       "</style>\n",
       "<table border=\"1\" class=\"dataframe\">\n",
       "  <thead>\n",
       "    <tr style=\"text-align: right;\">\n",
       "      <th></th>\n",
       "      <th>URBANICITY</th>\n",
       "      <th>MVR_PTS</th>\n",
       "      <th>AGE</th>\n",
       "      <th>REVOKED</th>\n",
       "      <th>CLAIM_FLAG</th>\n",
       "    </tr>\n",
       "  </thead>\n",
       "  <tbody>\n",
       "    <tr>\n",
       "      <th>0</th>\n",
       "      <td>1</td>\n",
       "      <td>3</td>\n",
       "      <td>60.0</td>\n",
       "      <td>0</td>\n",
       "      <td>0</td>\n",
       "    </tr>\n",
       "    <tr>\n",
       "      <th>1</th>\n",
       "      <td>1</td>\n",
       "      <td>0</td>\n",
       "      <td>43.0</td>\n",
       "      <td>0</td>\n",
       "      <td>0</td>\n",
       "    </tr>\n",
       "    <tr>\n",
       "      <th>2</th>\n",
       "      <td>1</td>\n",
       "      <td>2</td>\n",
       "      <td>48.0</td>\n",
       "      <td>0</td>\n",
       "      <td>0</td>\n",
       "    </tr>\n",
       "    <tr>\n",
       "      <th>3</th>\n",
       "      <td>1</td>\n",
       "      <td>3</td>\n",
       "      <td>35.0</td>\n",
       "      <td>0</td>\n",
       "      <td>0</td>\n",
       "    </tr>\n",
       "    <tr>\n",
       "      <th>4</th>\n",
       "      <td>1</td>\n",
       "      <td>0</td>\n",
       "      <td>51.0</td>\n",
       "      <td>0</td>\n",
       "      <td>0</td>\n",
       "    </tr>\n",
       "  </tbody>\n",
       "</table>\n",
       "</div>"
      ],
      "text/plain": [
       "   URBANICITY  MVR_PTS   AGE  REVOKED  CLAIM_FLAG\n",
       "0           1        3  60.0        0           0\n",
       "1           1        0  43.0        0           0\n",
       "2           1        2  48.0        0           0\n",
       "3           1        3  35.0        0           0\n",
       "4           1        0  51.0        0           0"
      ]
     },
     "execution_count": 110,
     "metadata": {},
     "output_type": "execute_result"
    }
   ],
   "source": [
    "X.head()"
   ]
  },
  {
   "cell_type": "code",
   "execution_count": 112,
   "metadata": {},
   "outputs": [
    {
     "data": {
      "text/plain": [
       "MVR_PTS       0.448472\n",
       "AGE           0.338784\n",
       "URBANICITY    0.120705\n",
       "CLAIM_FLAG    0.078746\n",
       "REVOKED       0.013292\n",
       "dtype: float64"
      ]
     },
     "execution_count": 112,
     "metadata": {},
     "output_type": "execute_result"
    }
   ],
   "source": [
    "feature_importance = pd.Series(rfc.feature_importances_,index=X.columns).sort_values(ascending=False)\n",
    "feature_importance"
   ]
  },
  {
   "cell_type": "code",
   "execution_count": 114,
   "metadata": {},
   "outputs": [
    {
     "data": {
      "text/plain": [
       "Text(0.5, 0, 'Importance of Feature')"
      ]
     },
     "execution_count": 114,
     "metadata": {},
     "output_type": "execute_result"
    },
    {
     "data": {
      "image/png": "[encoded data removed]",
      "text/plain": [
       "<Figure size 432x288 with 1 Axes>"
      ]
     },
     "metadata": {
      "needs_background": "light"
     },
     "output_type": "display_data"
    }
   ],
   "source": [
    "sns.barplot(x=feature_importance, y=feature_importance.index)\n",
    "plt.xlabel('Importance of Feature')"
   ]
  },
  {
   "cell_type": "code",
   "execution_count": 115,
   "metadata": {},
   "outputs": [],
   "source": [
    "# remove revoked as a feature\n",
    "new_features = ['MVR_PTS', 'AGE', 'URBANICITY', 'CLAIM_FLAG']\n",
    "X = df[new_features]"
   ]
  },
  {
   "cell_type": "code",
   "execution_count": 117,
   "metadata": {},
   "outputs": [],
   "source": [
    "X_train, X_test, y_train, y_test = train_test_split(X, y, test_size = 0.20, random_state = 0, stratify=y)"
   ]
  },
  {
   "cell_type": "code",
   "execution_count": 118,
   "metadata": {},
   "outputs": [],
   "source": [
    "scaler  = StandardScaler()\n",
    "X_train = scaler.fit_transform(X_train)\n",
    "X_test  = scaler.transform(X_test)"
   ]
  },
  {
   "cell_type": "code",
   "execution_count": 151,
   "metadata": {},
   "outputs": [],
   "source": [
    "svc = SVC(C=10, \n",
    "          kernel='rbf', \n",
    "          gamma='auto', \n",
    "         )"
   ]
  },
  {
   "cell_type": "code",
   "execution_count": 152,
   "metadata": {},
   "outputs": [
    {
     "data": {
      "text/plain": [
       "SVC(C=10, break_ties=False, cache_size=200, class_weight=None, coef0=0.0,\n",
       "    decision_function_shape='ovr', degree=3, gamma='auto', kernel='rbf',\n",
       "    max_iter=-1, probability=False, random_state=None, shrinking=True,\n",
       "    tol=0.001, verbose=False)"
      ]
     },
     "execution_count": 152,
     "metadata": {},
     "output_type": "execute_result"
    }
   ],
   "source": [
    "svc.fit(X_train, y_train)"
   ]
  },
  {
   "cell_type": "code",
   "execution_count": 153,
   "metadata": {},
   "outputs": [],
   "source": [
    "preds = svc.predict(X_test)"
   ]
  },
  {
   "cell_type": "code",
   "execution_count": 154,
   "metadata": {},
   "outputs": [
    {
     "name": "stdout",
     "output_type": "stream",
     "text": [
      "SVM results:\n",
      "Accuracy:  75.3%\n",
      "Precision: 75.23%\n",
      "Recall:    75.3%\n",
      "F1-Score:  74.39%\n"
     ]
    }
   ],
   "source": [
    "print(\"SVM results:\")\n",
    "print(\"Accuracy:  \" + str(round(skm.accuracy_score(y_true=y_test,y_pred=preds) * 100, 2)) + \"%\")\n",
    "print(\"Precision: \" + str(round(skm.precision_score(y_true=y_test,y_pred=preds,average='weighted') * 100, 2)) + \"%\")\n",
    "print(\"Recall:    \" + str(round(skm.recall_score(y_true=y_test,y_pred=preds,average='weighted') * 100, 2)) + \"%\")\n",
    "print(\"F1-Score:  \" + str(round(skm.f1_score(y_true=y_test,y_pred=preds,average='weighted') * 100, 2)) + \"%\")"
   ]
  },
  {
   "cell_type": "code",
   "execution_count": 155,
   "metadata": {},
   "outputs": [],
   "source": [
    "svc_cfmat = skm.confusion_matrix(\n",
    "    y_true=y_test,\n",
    "    y_pred=preds)"
   ]
  },
  {
   "cell_type": "code",
   "execution_count": 156,
   "metadata": {},
   "outputs": [
    {
     "data": {
      "text/plain": [
       "Text(0.5, 1, 'SVM Confusion Matrix')"
      ]
     },
     "execution_count": 156,
     "metadata": {},
     "output_type": "execute_result"
    },
    {
     "data": {
      "image/png": "[encoded data removed]",
      "text/plain": [
       "<Figure size 504x360 with 2 Axes>"
      ]
     },
     "metadata": {
      "needs_background": "light"
     },
     "output_type": "display_data"
    }
   ],
   "source": [
    "fig, ax = plt.subplots(figsize=(7,5))\n",
    "sns.heatmap(svc_cfmat, \n",
    "            xticklabels=['No', 'Yes'],\n",
    "            yticklabels=['No', 'Yes'],\n",
    "            annot=True,\n",
    "            fmt='g')\n",
    "plt.xlabel('predicted label')\n",
    "plt.ylabel('true label')\n",
    "plt.title('SVM Confusion Matrix')"
   ]
  },
  {
   "cell_type": "markdown",
   "metadata": {},
   "source": [
    "### Final product is a model which takes in # of Demerit Points, Age, Car Crash Status, and Urbanicity and predicts with 75.35% accuracy whether a customer will make more than one insurance claim."
   ]
  },
  {
   "cell_type": "markdown",
   "metadata": {},
   "source": [
    "#### Sources used:\n",
    "Dataset from: https://www.kaggle.com/xiaomengsun/car-insurance-claim-data\n",
    "\n",
    "Other sources: \n",
    "- http://rstudio-pubs-static.s3.amazonaws.com/325100_1db19d9fa2e8482c98af89a1d5d91802.html\n",
    "- https://www.kaggle.com/nadintamer/titanic-survival-predictions\n",
    "- https://scikit-learn.org/stable/modules/generated/sklearn.metrics.accuracy_score.html\n",
    "- https://www.kaggle.com/dansbecker/model-validation\n",
    "- https://scikit-learn.org/stable/auto_examples/index.html#classification\n",
    "- https://scikit-learn.org/stable/auto_examples/tree/plot_tree_regression.html#sphx-glr-auto-examples-tree-plot-tree-regression-py"
   ]
  }
 ],
 "metadata": {
  "kernelspec": {
   "display_name": "Python 3",
   "language": "python",
   "name": "python3"
  },
  "language_info": {
   "codemirror_mode": {
    "name": "ipython",
    "version": 3
   },
   "file_extension": ".py",
   "mimetype": "text/x-python",
   "name": "python",
   "nbconvert_exporter": "python",
   "pygments_lexer": "ipython3",
   "version": "3.8.5"
  }
 },
 "nbformat": 4,
 "nbformat_minor": 4
}
